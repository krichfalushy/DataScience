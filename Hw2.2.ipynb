{
  "nbformat": 4,
  "nbformat_minor": 0,
  "metadata": {
    "colab": {
      "provenance": []
    },
    "kernelspec": {
      "name": "python3",
      "display_name": "Python 3"
    },
    "language_info": {
      "name": "python"
    }
  },
  "cells": [
    {
      "cell_type": "code",
      "execution_count": 1,
      "metadata": {
        "id": "UwLJ3gGSO91W"
      },
      "outputs": [],
      "source": [
        "import numpy as np\n",
        "import pandas as pd\n",
        "import matplotlib.pyplot as plt"
      ]
    },
    {
      "cell_type": "code",
      "source": [
        "table = pd.read_csv(\"/content/2017_jun_final.csv\")\n",
        "print(table)"
      ],
      "metadata": {
        "colab": {
          "base_uri": "https://localhost:8080/"
        },
        "id": "Gkb_EIydQUeH",
        "outputId": "90a2d86a-a6f0-42fb-cff3-3778cfd625b9"
      },
      "execution_count": 4,
      "outputs": [
        {
          "output_type": "stream",
          "name": "stdout",
          "text": [
            "         N                 Должность Язык.программирования Специализация  \\\n",
            "0        1        Junior QA engineer                   NaN     Manual QA   \n",
            "1        2        Junior QA engineer                   NaN     Manual QA   \n",
            "2        3         Software Engineer               C#/.NET           NaN   \n",
            "3        4         Software Engineer            JavaScript           NaN   \n",
            "4        5  Senior Software Engineer            JavaScript           NaN   \n",
            "...    ...                       ...                   ...           ...   \n",
            "8699  8700               QA engineer                   NaN     Manual QA   \n",
            "8700  8701                 Marketing                   NaN           NaN   \n",
            "8701  8702  Junior Software Engineer            Ruby/Rails           NaN   \n",
            "8702  8703                 Team lead                   NaN           NaN   \n",
            "8703  8704  Senior Software Engineer                  Java           NaN   \n",
            "\n",
            "     Общий.опыт.работы Опыт.работы.на.текущем.месте  Зарплата.в.месяц  \\\n",
            "0                  0.5                          0.5               400   \n",
            "1     меньше 3 месяцев             меньше 3 месяцев               430   \n",
            "2                    4                            1              2500   \n",
            "3                    5                            4              2000   \n",
            "4       10 и более лет                          0.5              4500   \n",
            "...                ...                          ...               ...   \n",
            "8699                 1             меньше 3 месяцев               700   \n",
            "8700               0.5                          0.5               400   \n",
            "8701                 1                          0.5               800   \n",
            "8702                 6                            4              2600   \n",
            "8703                 7                            2              5000   \n",
            "\n",
            "      Изменение.зарплаты.за.12.месяцев    Город     Размер.компании  ...  \\\n",
            "0                                    0  Харьков       до 10 человек  ...   \n",
            "1                                  130  Харьков  свыше 1000 человек  ...   \n",
            "2                                  800     Киев     до 1000 человек  ...   \n",
            "3                                  400   Одесса      до 200 человек  ...   \n",
            "4                                  500   Другой       до 10 человек  ...   \n",
            "...                                ...      ...                 ...  ...   \n",
            "8699                               700   Одесса       до 50 человек  ...   \n",
            "8700                               120     Киев       до 50 человек  ...   \n",
            "8701                               500    Львов       до 10 человек  ...   \n",
            "8702                                 0    Днепр  свыше 1000 человек  ...   \n",
            "8703                               800   Одесса     до 1000 человек  ...   \n",
            "\n",
            "     Еще.студент Уровень.английского                    Предметная.область  \\\n",
            "0           True       ниже среднего                         iOS,eCommerce   \n",
            "1           True       выше среднего                        Веб-разработка   \n",
            "2          False             средний  Веб-разработка,Корпоративные системы   \n",
            "3          False       ниже среднего   Desktop Applications,Веб-разработка   \n",
            "4          False             средний   Desktop Applications,Веб-разработка   \n",
            "...          ...                 ...                                   ...   \n",
            "8699       False             средний          Android,Desktop Applications   \n",
            "8700       False       ниже среднего                             eCommerce   \n",
            "8701       False       выше среднего  Веб-разработка,Корпоративные системы   \n",
            "8702       False         продвинутый                       Финансы и банки   \n",
            "8703       False       выше среднего                        Веб-разработка   \n",
            "\n",
            "          Дата.заполнения                                         User.Agent  \\\n",
            "0     12/06/2017 12:38:08  Mozilla/5.0 (Windows NT 10.0; Win64; x64) Appl...   \n",
            "1     12/06/2017 12:42:51  Mozilla/5.0 (iPad; CPU OS 10_2_1 like Mac OS X...   \n",
            "2     12/06/2017 13:02:47  Mozilla/5.0 (Windows NT 10.0; Win64; x64) Appl...   \n",
            "3     12/06/2017 13:03:01  Mozilla/5.0 (Windows NT 6.1; Win64; x64) Apple...   \n",
            "4     12/06/2017 13:03:47  Mozilla/5.0 (iPhone; CPU iPhone OS 10_3_2 like...   \n",
            "...                   ...                                                ...   \n",
            "8699  12/07/2017 15:45:24  Mozilla/5.0 (X11; Ubuntu; Linux x86_64; rv:54....   \n",
            "8700  12/07/2017 17:00:06  Mozilla/5.0 (Windows NT 10.0; Win64; x64) Appl...   \n",
            "8701  12/07/2017 17:32:26  Mozilla/5.0 (X11; Linux x86_64) AppleWebKit/53...   \n",
            "8702  12/07/2017 18:14:59  Mozilla/5.0 (Windows NT 6.1) AppleWebKit/537.3...   \n",
            "8703  12/07/2017 21:28:57  Mozilla/5.0 (iPad; CPU OS 10_3_2 like Mac OS X...   \n",
            "\n",
            "       exp current_job_exp salary Валюта  cls  \n",
            "0      0.5             0.5    400    NaN   QA  \n",
            "1      0.0             0.0    430    NaN   QA  \n",
            "2      4.0             1.0   2500    NaN  DEV  \n",
            "3      5.0             4.0   2000    NaN  DEV  \n",
            "4     10.0             0.5   4500    NaN  DEV  \n",
            "...    ...             ...    ...    ...  ...  \n",
            "8699   1.0             0.0    700    NaN   QA  \n",
            "8700   0.5             0.5    400    NaN  NaN  \n",
            "8701   1.0             0.5    800    NaN  DEV  \n",
            "8702   6.0             4.0   2600    NaN   PM  \n",
            "8703   7.0             2.0   5000    NaN  DEV  \n",
            "\n",
            "[8704 rows x 25 columns]\n"
          ]
        }
      ]
    },
    {
      "cell_type": "code",
      "source": [
        "head_table = table.head()\n",
        "print(head_table)"
      ],
      "metadata": {
        "colab": {
          "base_uri": "https://localhost:8080/"
        },
        "id": "mhLTvq3KReLc",
        "outputId": "6e55f3e4-01cb-46ee-be40-2c008b712378"
      },
      "execution_count": 5,
      "outputs": [
        {
          "output_type": "stream",
          "name": "stdout",
          "text": [
            "   N                 Должность Язык.программирования Специализация  \\\n",
            "0  1        Junior QA engineer                   NaN     Manual QA   \n",
            "1  2        Junior QA engineer                   NaN     Manual QA   \n",
            "2  3         Software Engineer               C#/.NET           NaN   \n",
            "3  4         Software Engineer            JavaScript           NaN   \n",
            "4  5  Senior Software Engineer            JavaScript           NaN   \n",
            "\n",
            "  Общий.опыт.работы Опыт.работы.на.текущем.месте  Зарплата.в.месяц  \\\n",
            "0               0.5                          0.5               400   \n",
            "1  меньше 3 месяцев             меньше 3 месяцев               430   \n",
            "2                 4                            1              2500   \n",
            "3                 5                            4              2000   \n",
            "4    10 и более лет                          0.5              4500   \n",
            "\n",
            "   Изменение.зарплаты.за.12.месяцев    Город     Размер.компании  ...  \\\n",
            "0                                 0  Харьков       до 10 человек  ...   \n",
            "1                               130  Харьков  свыше 1000 человек  ...   \n",
            "2                               800     Киев     до 1000 человек  ...   \n",
            "3                               400   Одесса      до 200 человек  ...   \n",
            "4                               500   Другой       до 10 человек  ...   \n",
            "\n",
            "  Еще.студент Уровень.английского                    Предметная.область  \\\n",
            "0        True       ниже среднего                         iOS,eCommerce   \n",
            "1        True       выше среднего                        Веб-разработка   \n",
            "2       False             средний  Веб-разработка,Корпоративные системы   \n",
            "3       False       ниже среднего   Desktop Applications,Веб-разработка   \n",
            "4       False             средний   Desktop Applications,Веб-разработка   \n",
            "\n",
            "       Дата.заполнения                                         User.Agent  \\\n",
            "0  12/06/2017 12:38:08  Mozilla/5.0 (Windows NT 10.0; Win64; x64) Appl...   \n",
            "1  12/06/2017 12:42:51  Mozilla/5.0 (iPad; CPU OS 10_2_1 like Mac OS X...   \n",
            "2  12/06/2017 13:02:47  Mozilla/5.0 (Windows NT 10.0; Win64; x64) Appl...   \n",
            "3  12/06/2017 13:03:01  Mozilla/5.0 (Windows NT 6.1; Win64; x64) Apple...   \n",
            "4  12/06/2017 13:03:47  Mozilla/5.0 (iPhone; CPU iPhone OS 10_3_2 like...   \n",
            "\n",
            "    exp current_job_exp salary Валюта  cls  \n",
            "0   0.5             0.5    400    NaN   QA  \n",
            "1   0.0             0.0    430    NaN   QA  \n",
            "2   4.0             1.0   2500    NaN  DEV  \n",
            "3   5.0             4.0   2000    NaN  DEV  \n",
            "4  10.0             0.5   4500    NaN  DEV  \n",
            "\n",
            "[5 rows x 25 columns]\n"
          ]
        }
      ]
    },
    {
      "cell_type": "code",
      "source": [
        "rows, columns = head_table.shape\n",
        "print(f\"rows: {rows}\\ncolumns: {columns}\")"
      ],
      "metadata": {
        "colab": {
          "base_uri": "https://localhost:8080/"
        },
        "id": "xcPVW7_aSb_J",
        "outputId": "9bc60848-63d7-4b3e-8289-bce1f2a273da"
      },
      "execution_count": 6,
      "outputs": [
        {
          "output_type": "stream",
          "name": "stdout",
          "text": [
            "rows: 5\n",
            "columns: 25\n"
          ]
        }
      ]
    },
    {
      "cell_type": "code",
      "source": [
        "print(table.dtypes)"
      ],
      "metadata": {
        "colab": {
          "base_uri": "https://localhost:8080/"
        },
        "id": "RfEQ-nnMbh6u",
        "outputId": "db6eb3b3-3be3-4c7a-8e90-bd06765d1dc7"
      },
      "execution_count": 7,
      "outputs": [
        {
          "output_type": "stream",
          "name": "stdout",
          "text": [
            "N                                     int64\n",
            "Должность                            object\n",
            "Язык.программирования                object\n",
            "Специализация                        object\n",
            "Общий.опыт.работы                    object\n",
            "Опыт.работы.на.текущем.месте         object\n",
            "Зарплата.в.месяц                      int64\n",
            "Изменение.зарплаты.за.12.месяцев      int64\n",
            "Город                                object\n",
            "Размер.компании                      object\n",
            "Тип.компании                         object\n",
            "Пол                                  object\n",
            "Возраст                               int64\n",
            "Образование                          object\n",
            "Университет                          object\n",
            "Еще.студент                            bool\n",
            "Уровень.английского                  object\n",
            "Предметная.область                   object\n",
            "Дата.заполнения                      object\n",
            "User.Agent                           object\n",
            "exp                                 float64\n",
            "current_job_exp                     float64\n",
            "salary                                int64\n",
            "Валюта                               object\n",
            "cls                                  object\n",
            "dtype: object\n"
          ]
        }
      ]
    },
    {
      "cell_type": "code",
      "source": [
        "isnull_table = table.isnull().sum()\n",
        "print(isnull_table)"
      ],
      "metadata": {
        "colab": {
          "base_uri": "https://localhost:8080/"
        },
        "id": "ccHI-8yObr0E",
        "outputId": "57499b1e-1829-41a0-f9d4-20d039edde39"
      },
      "execution_count": 8,
      "outputs": [
        {
          "output_type": "stream",
          "name": "stdout",
          "text": [
            "N                                      0\n",
            "Должность                              0\n",
            "Язык.программирования               3850\n",
            "Специализация                       7219\n",
            "Общий.опыт.работы                      0\n",
            "Опыт.работы.на.текущем.месте           0\n",
            "Зарплата.в.месяц                       0\n",
            "Изменение.зарплаты.за.12.месяцев       0\n",
            "Город                                  0\n",
            "Размер.компании                        0\n",
            "Тип.компании                           0\n",
            "Пол                                    0\n",
            "Возраст                                0\n",
            "Образование                            0\n",
            "Университет                          358\n",
            "Еще.студент                            0\n",
            "Уровень.английского                    0\n",
            "Предметная.область                   223\n",
            "Дата.заполнения                        0\n",
            "User.Agent                             0\n",
            "exp                                    0\n",
            "current_job_exp                        0\n",
            "salary                                 0\n",
            "Валюта                              8694\n",
            "cls                                 1574\n",
            "dtype: int64\n"
          ]
        }
      ]
    },
    {
      "cell_type": "code",
      "source": [
        "ind = 0\n",
        "while ind < len(table.isnull().sum()):\n",
        "  for i in table:\n",
        "    if i != \"Язык.программирования\" and isnull_table[ind] > 0:\n",
        "      table = table.drop([i], axis=1)\n",
        "    ind += 1\n",
        "\n",
        "print(table)"
      ],
      "metadata": {
        "colab": {
          "base_uri": "https://localhost:8080/"
        },
        "id": "SVpKDk3HcYy3",
        "outputId": "2a063edd-4bd7-45a5-9b5e-1562886ee058"
      },
      "execution_count": 9,
      "outputs": [
        {
          "output_type": "stream",
          "name": "stdout",
          "text": [
            "         N                 Должность Язык.программирования Общий.опыт.работы  \\\n",
            "0        1        Junior QA engineer                   NaN               0.5   \n",
            "1        2        Junior QA engineer                   NaN  меньше 3 месяцев   \n",
            "2        3         Software Engineer               C#/.NET                 4   \n",
            "3        4         Software Engineer            JavaScript                 5   \n",
            "4        5  Senior Software Engineer            JavaScript    10 и более лет   \n",
            "...    ...                       ...                   ...               ...   \n",
            "8699  8700               QA engineer                   NaN                 1   \n",
            "8700  8701                 Marketing                   NaN               0.5   \n",
            "8701  8702  Junior Software Engineer            Ruby/Rails                 1   \n",
            "8702  8703                 Team lead                   NaN                 6   \n",
            "8703  8704  Senior Software Engineer                  Java                 7   \n",
            "\n",
            "     Опыт.работы.на.текущем.месте  Зарплата.в.месяц  \\\n",
            "0                             0.5               400   \n",
            "1                меньше 3 месяцев               430   \n",
            "2                               1              2500   \n",
            "3                               4              2000   \n",
            "4                             0.5              4500   \n",
            "...                           ...               ...   \n",
            "8699             меньше 3 месяцев               700   \n",
            "8700                          0.5               400   \n",
            "8701                          0.5               800   \n",
            "8702                            4              2600   \n",
            "8703                            2              5000   \n",
            "\n",
            "      Изменение.зарплаты.за.12.месяцев    Город     Размер.компании  \\\n",
            "0                                    0  Харьков       до 10 человек   \n",
            "1                                  130  Харьков  свыше 1000 человек   \n",
            "2                                  800     Киев     до 1000 человек   \n",
            "3                                  400   Одесса      до 200 человек   \n",
            "4                                  500   Другой       до 10 человек   \n",
            "...                                ...      ...                 ...   \n",
            "8699                               700   Одесса       до 50 человек   \n",
            "8700                               120     Киев       до 50 человек   \n",
            "8701                               500    Львов       до 10 человек   \n",
            "8702                                 0    Днепр  свыше 1000 человек   \n",
            "8703                               800   Одесса     до 1000 человек   \n",
            "\n",
            "         Тип.компании      Пол  Возраст           Образование  Еще.студент  \\\n",
            "0      Аутсорсинговая  женский       20  Незаконченное высшее         True   \n",
            "1      Аутсорсинговая  женский       21  Незаконченное высшее         True   \n",
            "2      Аутсорсинговая  мужской       26                Высшее        False   \n",
            "3         Продуктовая  мужской       30               Среднее        False   \n",
            "4         Продуктовая  мужской       30    Техникум / Колледж        False   \n",
            "...               ...      ...      ...                   ...          ...   \n",
            "8699   Аутсорсинговая  мужской       23                Высшее        False   \n",
            "8700      Продуктовая  женский       22                Высшее        False   \n",
            "8701  Аутстаффинговая  мужской       30  Незаконченное высшее        False   \n",
            "8702   Аутсорсинговая  мужской       34                Высшее        False   \n",
            "8703      Продуктовая  мужской       28                Высшее        False   \n",
            "\n",
            "     Уровень.английского      Дата.заполнения  \\\n",
            "0          ниже среднего  12/06/2017 12:38:08   \n",
            "1          выше среднего  12/06/2017 12:42:51   \n",
            "2                средний  12/06/2017 13:02:47   \n",
            "3          ниже среднего  12/06/2017 13:03:01   \n",
            "4                средний  12/06/2017 13:03:47   \n",
            "...                  ...                  ...   \n",
            "8699             средний  12/07/2017 15:45:24   \n",
            "8700       ниже среднего  12/07/2017 17:00:06   \n",
            "8701       выше среднего  12/07/2017 17:32:26   \n",
            "8702         продвинутый  12/07/2017 18:14:59   \n",
            "8703       выше среднего  12/07/2017 21:28:57   \n",
            "\n",
            "                                             User.Agent   exp  \\\n",
            "0     Mozilla/5.0 (Windows NT 10.0; Win64; x64) Appl...   0.5   \n",
            "1     Mozilla/5.0 (iPad; CPU OS 10_2_1 like Mac OS X...   0.0   \n",
            "2     Mozilla/5.0 (Windows NT 10.0; Win64; x64) Appl...   4.0   \n",
            "3     Mozilla/5.0 (Windows NT 6.1; Win64; x64) Apple...   5.0   \n",
            "4     Mozilla/5.0 (iPhone; CPU iPhone OS 10_3_2 like...  10.0   \n",
            "...                                                 ...   ...   \n",
            "8699  Mozilla/5.0 (X11; Ubuntu; Linux x86_64; rv:54....   1.0   \n",
            "8700  Mozilla/5.0 (Windows NT 10.0; Win64; x64) Appl...   0.5   \n",
            "8701  Mozilla/5.0 (X11; Linux x86_64) AppleWebKit/53...   1.0   \n",
            "8702  Mozilla/5.0 (Windows NT 6.1) AppleWebKit/537.3...   6.0   \n",
            "8703  Mozilla/5.0 (iPad; CPU OS 10_3_2 like Mac OS X...   7.0   \n",
            "\n",
            "      current_job_exp  salary  \n",
            "0                 0.5     400  \n",
            "1                 0.0     430  \n",
            "2                 1.0    2500  \n",
            "3                 4.0    2000  \n",
            "4                 0.5    4500  \n",
            "...               ...     ...  \n",
            "8699              0.0     700  \n",
            "8700              0.5     400  \n",
            "8701              0.5     800  \n",
            "8702              4.0    2600  \n",
            "8703              2.0    5000  \n",
            "\n",
            "[8704 rows x 20 columns]\n"
          ]
        }
      ]
    },
    {
      "cell_type": "code",
      "source": [
        "new_isnull_table = table.isnull().sum()\n",
        "print(new_isnull_table)"
      ],
      "metadata": {
        "colab": {
          "base_uri": "https://localhost:8080/"
        },
        "id": "r1gK4ZRqqSeC",
        "outputId": "b420176c-4884-4402-b241-c4c26874cb1a"
      },
      "execution_count": 10,
      "outputs": [
        {
          "output_type": "stream",
          "name": "stdout",
          "text": [
            "N                                      0\n",
            "Должность                              0\n",
            "Язык.программирования               3850\n",
            "Общий.опыт.работы                      0\n",
            "Опыт.работы.на.текущем.месте           0\n",
            "Зарплата.в.месяц                       0\n",
            "Изменение.зарплаты.за.12.месяцев       0\n",
            "Город                                  0\n",
            "Размер.компании                        0\n",
            "Тип.компании                           0\n",
            "Пол                                    0\n",
            "Возраст                                0\n",
            "Образование                            0\n",
            "Еще.студент                            0\n",
            "Уровень.английского                    0\n",
            "Дата.заполнения                        0\n",
            "User.Agent                             0\n",
            "exp                                    0\n",
            "current_job_exp                        0\n",
            "salary                                 0\n",
            "dtype: int64\n"
          ]
        }
      ]
    },
    {
      "cell_type": "code",
      "source": [
        "new_table = table.dropna()\n",
        "print(new_table)"
      ],
      "metadata": {
        "colab": {
          "base_uri": "https://localhost:8080/"
        },
        "id": "uKneXk6a1w9c",
        "outputId": "5f56c738-c42e-40a9-a04f-e633b4f90407"
      },
      "execution_count": 11,
      "outputs": [
        {
          "output_type": "stream",
          "name": "stdout",
          "text": [
            "         N                 Должность Язык.программирования Общий.опыт.работы  \\\n",
            "2        3         Software Engineer               C#/.NET                 4   \n",
            "3        4         Software Engineer            JavaScript                 5   \n",
            "4        5  Senior Software Engineer            JavaScript    10 и более лет   \n",
            "6        7  Junior Software Engineer               C#/.NET                 1   \n",
            "7        8  Senior Software Engineer                   C++                 6   \n",
            "...    ...                       ...                   ...               ...   \n",
            "8692  8693         Software Engineer                  Java                 5   \n",
            "8694  8695  Junior Software Engineer               C#/.NET                 1   \n",
            "8695  8696         Software Engineer                Python                 1   \n",
            "8701  8702  Junior Software Engineer            Ruby/Rails                 1   \n",
            "8703  8704  Senior Software Engineer                  Java                 7   \n",
            "\n",
            "     Опыт.работы.на.текущем.месте  Зарплата.в.месяц  \\\n",
            "2                               1              2500   \n",
            "3                               4              2000   \n",
            "4                             0.5              4500   \n",
            "6                меньше 3 месяцев               600   \n",
            "7                               1              3300   \n",
            "...                           ...               ...   \n",
            "8692                            1              3500   \n",
            "8694                            1               550   \n",
            "8695                          0.5              1500   \n",
            "8701                          0.5               800   \n",
            "8703                            2              5000   \n",
            "\n",
            "      Изменение.зарплаты.за.12.месяцев        Город  Размер.компании  \\\n",
            "2                                  800         Киев  до 1000 человек   \n",
            "3                                  400       Одесса   до 200 человек   \n",
            "4                                  500       Другой    до 10 человек   \n",
            "6                                  100  Хмельницкий    до 50 человек   \n",
            "7                                  500         Киев    до 10 человек   \n",
            "...                                ...          ...              ...   \n",
            "8692                               650     Удаленно   до 200 человек   \n",
            "8694                               550      Харьков   до 200 человек   \n",
            "8695                              1000         Киев    до 10 человек   \n",
            "8701                               500        Львов    до 10 человек   \n",
            "8703                               800       Одесса  до 1000 человек   \n",
            "\n",
            "         Тип.компании      Пол  Возраст           Образование  Еще.студент  \\\n",
            "2      Аутсорсинговая  мужской       26                Высшее        False   \n",
            "3         Продуктовая  мужской       30               Среднее        False   \n",
            "4         Продуктовая  мужской       30    Техникум / Колледж        False   \n",
            "6      Аутсорсинговая  мужской       23                Высшее        False   \n",
            "7         Продуктовая  мужской       28                Высшее        False   \n",
            "...               ...      ...      ...                   ...          ...   \n",
            "8692   Аутсорсинговая  женский       28                Высшее        False   \n",
            "8694   Аутсорсинговая  мужской       23                Высшее        False   \n",
            "8695          Стартап  мужской       29                Высшее        False   \n",
            "8701  Аутстаффинговая  мужской       30  Незаконченное высшее        False   \n",
            "8703      Продуктовая  мужской       28                Высшее        False   \n",
            "\n",
            "     Уровень.английского      Дата.заполнения  \\\n",
            "2                средний  12/06/2017 13:02:47   \n",
            "3          ниже среднего  12/06/2017 13:03:01   \n",
            "4                средний  12/06/2017 13:03:47   \n",
            "6          ниже среднего  12/06/2017 13:04:26   \n",
            "7          выше среднего  12/06/2017 13:04:27   \n",
            "...                  ...                  ...   \n",
            "8692             средний  12/07/2017 13:26:49   \n",
            "8694       ниже среднего  12/07/2017 14:14:33   \n",
            "8695             средний  12/07/2017 14:39:21   \n",
            "8701       выше среднего  12/07/2017 17:32:26   \n",
            "8703       выше среднего  12/07/2017 21:28:57   \n",
            "\n",
            "                                             User.Agent   exp  \\\n",
            "2     Mozilla/5.0 (Windows NT 10.0; Win64; x64) Appl...   4.0   \n",
            "3     Mozilla/5.0 (Windows NT 6.1; Win64; x64) Apple...   5.0   \n",
            "4     Mozilla/5.0 (iPhone; CPU iPhone OS 10_3_2 like...  10.0   \n",
            "6     Mozilla/5.0 (Windows NT 10.0; Win64; x64) Appl...   1.0   \n",
            "7     Mozilla/5.0 (X11; Ubuntu; Linux x86_64; rv:53....   6.0   \n",
            "...                                                 ...   ...   \n",
            "8692  Mozilla/5.0 (Macintosh; Intel Mac OS X 10_12_5...   5.0   \n",
            "8694  Mozilla/5.0 (Windows NT 10.0; WOW64; rv:54.0) ...   1.0   \n",
            "8695  Mozilla/5.0 (X11; Linux x86_64) AppleWebKit/53...   1.0   \n",
            "8701  Mozilla/5.0 (X11; Linux x86_64) AppleWebKit/53...   1.0   \n",
            "8703  Mozilla/5.0 (iPad; CPU OS 10_3_2 like Mac OS X...   7.0   \n",
            "\n",
            "      current_job_exp  salary  \n",
            "2                 1.0    2500  \n",
            "3                 4.0    2000  \n",
            "4                 0.5    4500  \n",
            "6                 0.0     600  \n",
            "7                 1.0    3300  \n",
            "...               ...     ...  \n",
            "8692              1.0    3500  \n",
            "8694              1.0     550  \n",
            "8695              0.5    1500  \n",
            "8701              0.5     800  \n",
            "8703              2.0    5000  \n",
            "\n",
            "[4854 rows x 20 columns]\n"
          ]
        }
      ]
    },
    {
      "cell_type": "code",
      "source": [
        "print(new_table.shape)"
      ],
      "metadata": {
        "colab": {
          "base_uri": "https://localhost:8080/"
        },
        "id": "-VaBG6TINITq",
        "outputId": "4b1bc3f7-fd2e-4543-b5bf-4c2cc70afa38"
      },
      "execution_count": 12,
      "outputs": [
        {
          "output_type": "stream",
          "name": "stdout",
          "text": [
            "(4854, 20)\n"
          ]
        }
      ]
    },
    {
      "cell_type": "code",
      "source": [
        "python_data = new_table[new_table[\"Язык.программирования\"] == \"Python\"]\n",
        "print(python_data)"
      ],
      "metadata": {
        "colab": {
          "base_uri": "https://localhost:8080/"
        },
        "id": "Q4q-wUkTNbIr",
        "outputId": "0dbb4fb3-136b-477c-9dc5-2b961dd01e58"
      },
      "execution_count": 13,
      "outputs": [
        {
          "output_type": "stream",
          "name": "stdout",
          "text": [
            "         N                 Должность Язык.программирования Общий.опыт.работы  \\\n",
            "12      13         Software Engineer                Python                 1   \n",
            "68      69         Software Engineer                Python               1.5   \n",
            "87      88  Junior Software Engineer                Python               0.5   \n",
            "114    115  Junior Software Engineer                Python               1.5   \n",
            "143    144  Junior Software Engineer                Python                 1   \n",
            "...    ...                       ...                   ...               ...   \n",
            "8546  8547         Software Engineer                Python                 5   \n",
            "8625  8626         Software Engineer                Python                 4   \n",
            "8635  8636  Senior Software Engineer                Python    10 и более лет   \n",
            "8673  8674  Junior Software Engineer                Python               0.5   \n",
            "8695  8696         Software Engineer                Python                 1   \n",
            "\n",
            "     Опыт.работы.на.текущем.месте  Зарплата.в.месяц  \\\n",
            "12               меньше 3 месяцев               800   \n",
            "68                            0.5               900   \n",
            "87                            0.5               600   \n",
            "114                           0.5               685   \n",
            "143                             1               750   \n",
            "...                           ...               ...   \n",
            "8546                            1              2000   \n",
            "8625                            1              1750   \n",
            "8635             меньше 3 месяцев              4000   \n",
            "8673                          0.5               350   \n",
            "8695                          0.5              1500   \n",
            "\n",
            "      Изменение.зарплаты.за.12.месяцев      Город     Размер.компании  \\\n",
            "12                                 200       Киев       до 50 человек   \n",
            "68                                 900       Киев       до 10 человек   \n",
            "87                                   0       Киев       до 10 человек   \n",
            "114                                250       Киев     до 1000 человек   \n",
            "143                                250       Киев       до 10 человек   \n",
            "...                                ...        ...                 ...   \n",
            "8546                               800  Запорожье       до 50 человек   \n",
            "8625                                 0       Киев  свыше 1000 человек   \n",
            "8635                              1300   Удаленно       до 10 человек   \n",
            "8673                                50       Киев       до 50 человек   \n",
            "8695                              1000       Киев       до 10 человек   \n",
            "\n",
            "        Тип.компании      Пол  Возраст           Образование  Еще.студент  \\\n",
            "12    Аутсорсинговая  мужской       26                Высшее        False   \n",
            "68           Стартап  мужской       21  Незаконченное высшее         True   \n",
            "87    Аутсорсинговая  мужской       19  Незаконченное высшее         True   \n",
            "114   Аутсорсинговая  мужской       21  Незаконченное высшее        False   \n",
            "143   Аутсорсинговая  мужской       21  Незаконченное высшее         True   \n",
            "...              ...      ...      ...                   ...          ...   \n",
            "8546  Аутсорсинговая  мужской       22  Незаконченное высшее        False   \n",
            "8625  Аутсорсинговая  мужской       28               Среднее        False   \n",
            "8635         Стартап  мужской       33                Высшее        False   \n",
            "8673  Аутсорсинговая  мужской       22                Высшее        False   \n",
            "8695         Стартап  мужской       29                Высшее        False   \n",
            "\n",
            "     Уровень.английского      Дата.заполнения  \\\n",
            "12         ниже среднего  12/06/2017 13:05:54   \n",
            "68         выше среднего  12/06/2017 13:11:17   \n",
            "87         выше среднего  12/06/2017 13:12:25   \n",
            "114              средний  12/06/2017 13:14:52   \n",
            "143        выше среднего  12/06/2017 13:19:10   \n",
            "...                  ...                  ...   \n",
            "8546             средний  10/07/2017 14:11:26   \n",
            "8625             средний  11/07/2017 16:15:40   \n",
            "8635       выше среднего  11/07/2017 17:51:36   \n",
            "8673             средний  12/07/2017 09:37:16   \n",
            "8695             средний  12/07/2017 14:39:21   \n",
            "\n",
            "                                             User.Agent   exp  \\\n",
            "12    Mozilla/5.0 (Windows NT 6.1; Win64; x64) Apple...   1.0   \n",
            "68    Mozilla/5.0 (Windows NT 10.0; Win64; x64) Appl...   1.5   \n",
            "87    Mozilla/5.0 (X11; Linux x86_64) AppleWebKit/53...   0.5   \n",
            "114   Mozilla/5.0 (X11; Linux x86_64) AppleWebKit/53...   1.5   \n",
            "143   Mozilla/5.0 (X11; Linux x86_64) AppleWebKit/53...   1.0   \n",
            "...                                                 ...   ...   \n",
            "8546  Mozilla/5.0 (Macintosh; Intel Mac OS X 10_12_5...   5.0   \n",
            "8625  Mozilla/5.0 (X11; Ubuntu; Linux x86_64; rv:54....   4.0   \n",
            "8635  Mozilla/5.0 (X11; Linux x86_64) AppleWebKit/53...  10.0   \n",
            "8673  Mozilla/5.0 (X11; Ubuntu; Linux x86_64; rv:54....   0.5   \n",
            "8695  Mozilla/5.0 (X11; Linux x86_64) AppleWebKit/53...   1.0   \n",
            "\n",
            "      current_job_exp  salary  \n",
            "12                0.0     800  \n",
            "68                0.5     900  \n",
            "87                0.5     600  \n",
            "114               0.5     685  \n",
            "143               1.0     750  \n",
            "...               ...     ...  \n",
            "8546              1.0    2000  \n",
            "8625              1.0    1750  \n",
            "8635              0.0    4000  \n",
            "8673              0.5     350  \n",
            "8695              0.5    1500  \n",
            "\n",
            "[207 rows x 20 columns]\n"
          ]
        }
      ]
    },
    {
      "cell_type": "code",
      "source": [
        "print(python_data.shape)"
      ],
      "metadata": {
        "colab": {
          "base_uri": "https://localhost:8080/"
        },
        "id": "GaCtIz43RxHK",
        "outputId": "dedf58b3-0f43-4cf9-8584-31e4d35db549"
      },
      "execution_count": 14,
      "outputs": [
        {
          "output_type": "stream",
          "name": "stdout",
          "text": [
            "(207, 20)\n"
          ]
        }
      ]
    },
    {
      "cell_type": "code",
      "source": [
        "python_data.groupby(\"Должность\")\n",
        "print(python_data)"
      ],
      "metadata": {
        "colab": {
          "base_uri": "https://localhost:8080/"
        },
        "id": "4VeKWzHXSaRq",
        "outputId": "e76b6777-1278-4fc6-c44d-79832d179f8c"
      },
      "execution_count": 15,
      "outputs": [
        {
          "output_type": "stream",
          "name": "stdout",
          "text": [
            "         N                 Должность Язык.программирования Общий.опыт.работы  \\\n",
            "12      13         Software Engineer                Python                 1   \n",
            "68      69         Software Engineer                Python               1.5   \n",
            "87      88  Junior Software Engineer                Python               0.5   \n",
            "114    115  Junior Software Engineer                Python               1.5   \n",
            "143    144  Junior Software Engineer                Python                 1   \n",
            "...    ...                       ...                   ...               ...   \n",
            "8546  8547         Software Engineer                Python                 5   \n",
            "8625  8626         Software Engineer                Python                 4   \n",
            "8635  8636  Senior Software Engineer                Python    10 и более лет   \n",
            "8673  8674  Junior Software Engineer                Python               0.5   \n",
            "8695  8696         Software Engineer                Python                 1   \n",
            "\n",
            "     Опыт.работы.на.текущем.месте  Зарплата.в.месяц  \\\n",
            "12               меньше 3 месяцев               800   \n",
            "68                            0.5               900   \n",
            "87                            0.5               600   \n",
            "114                           0.5               685   \n",
            "143                             1               750   \n",
            "...                           ...               ...   \n",
            "8546                            1              2000   \n",
            "8625                            1              1750   \n",
            "8635             меньше 3 месяцев              4000   \n",
            "8673                          0.5               350   \n",
            "8695                          0.5              1500   \n",
            "\n",
            "      Изменение.зарплаты.за.12.месяцев      Город     Размер.компании  \\\n",
            "12                                 200       Киев       до 50 человек   \n",
            "68                                 900       Киев       до 10 человек   \n",
            "87                                   0       Киев       до 10 человек   \n",
            "114                                250       Киев     до 1000 человек   \n",
            "143                                250       Киев       до 10 человек   \n",
            "...                                ...        ...                 ...   \n",
            "8546                               800  Запорожье       до 50 человек   \n",
            "8625                                 0       Киев  свыше 1000 человек   \n",
            "8635                              1300   Удаленно       до 10 человек   \n",
            "8673                                50       Киев       до 50 человек   \n",
            "8695                              1000       Киев       до 10 человек   \n",
            "\n",
            "        Тип.компании      Пол  Возраст           Образование  Еще.студент  \\\n",
            "12    Аутсорсинговая  мужской       26                Высшее        False   \n",
            "68           Стартап  мужской       21  Незаконченное высшее         True   \n",
            "87    Аутсорсинговая  мужской       19  Незаконченное высшее         True   \n",
            "114   Аутсорсинговая  мужской       21  Незаконченное высшее        False   \n",
            "143   Аутсорсинговая  мужской       21  Незаконченное высшее         True   \n",
            "...              ...      ...      ...                   ...          ...   \n",
            "8546  Аутсорсинговая  мужской       22  Незаконченное высшее        False   \n",
            "8625  Аутсорсинговая  мужской       28               Среднее        False   \n",
            "8635         Стартап  мужской       33                Высшее        False   \n",
            "8673  Аутсорсинговая  мужской       22                Высшее        False   \n",
            "8695         Стартап  мужской       29                Высшее        False   \n",
            "\n",
            "     Уровень.английского      Дата.заполнения  \\\n",
            "12         ниже среднего  12/06/2017 13:05:54   \n",
            "68         выше среднего  12/06/2017 13:11:17   \n",
            "87         выше среднего  12/06/2017 13:12:25   \n",
            "114              средний  12/06/2017 13:14:52   \n",
            "143        выше среднего  12/06/2017 13:19:10   \n",
            "...                  ...                  ...   \n",
            "8546             средний  10/07/2017 14:11:26   \n",
            "8625             средний  11/07/2017 16:15:40   \n",
            "8635       выше среднего  11/07/2017 17:51:36   \n",
            "8673             средний  12/07/2017 09:37:16   \n",
            "8695             средний  12/07/2017 14:39:21   \n",
            "\n",
            "                                             User.Agent   exp  \\\n",
            "12    Mozilla/5.0 (Windows NT 6.1; Win64; x64) Apple...   1.0   \n",
            "68    Mozilla/5.0 (Windows NT 10.0; Win64; x64) Appl...   1.5   \n",
            "87    Mozilla/5.0 (X11; Linux x86_64) AppleWebKit/53...   0.5   \n",
            "114   Mozilla/5.0 (X11; Linux x86_64) AppleWebKit/53...   1.5   \n",
            "143   Mozilla/5.0 (X11; Linux x86_64) AppleWebKit/53...   1.0   \n",
            "...                                                 ...   ...   \n",
            "8546  Mozilla/5.0 (Macintosh; Intel Mac OS X 10_12_5...   5.0   \n",
            "8625  Mozilla/5.0 (X11; Ubuntu; Linux x86_64; rv:54....   4.0   \n",
            "8635  Mozilla/5.0 (X11; Linux x86_64) AppleWebKit/53...  10.0   \n",
            "8673  Mozilla/5.0 (X11; Ubuntu; Linux x86_64; rv:54....   0.5   \n",
            "8695  Mozilla/5.0 (X11; Linux x86_64) AppleWebKit/53...   1.0   \n",
            "\n",
            "      current_job_exp  salary  \n",
            "12                0.0     800  \n",
            "68                0.5     900  \n",
            "87                0.5     600  \n",
            "114               0.5     685  \n",
            "143               1.0     750  \n",
            "...               ...     ...  \n",
            "8546              1.0    2000  \n",
            "8625              1.0    1750  \n",
            "8635              0.0    4000  \n",
            "8673              0.5     350  \n",
            "8695              0.5    1500  \n",
            "\n",
            "[207 rows x 20 columns]\n"
          ]
        }
      ]
    },
    {
      "cell_type": "code",
      "source": [
        "new_data = python_data.groupby(\"Должность\").agg({\"Зарплата.в.месяц\": [\"min\", \"max\"]})\n",
        "print(new_data)"
      ],
      "metadata": {
        "colab": {
          "base_uri": "https://localhost:8080/"
        },
        "id": "ametQsyi7twX",
        "outputId": "41e1eba0-1014-4bd4-ce9c-0c732ba3a1d0"
      },
      "execution_count": 16,
      "outputs": [
        {
          "output_type": "stream",
          "name": "stdout",
          "text": [
            "                         Зарплата.в.месяц      \n",
            "                                      min   max\n",
            "Должность                                      \n",
            "Junior Software Engineer              100  1250\n",
            "Senior Software Engineer             1300  9200\n",
            "Software Engineer                     500  5400\n",
            "System Architect                     3000  5000\n",
            "Technical Lead                       1425  6200\n"
          ]
        }
      ]
    },
    {
      "cell_type": "code",
      "source": [
        "def fill_avg_salary():\n",
        "  avg_salary = python_data.groupby(\"Должность\")[\"Зарплата.в.месяц\"].mean()\n",
        "  avg = pd.DataFrame({\"avg\": avg_salary})\n",
        "  return avg\n",
        "\n",
        "\n",
        "print(fill_avg_salary())"
      ],
      "metadata": {
        "colab": {
          "base_uri": "https://localhost:8080/"
        },
        "id": "w8Jz8pR2--Vj",
        "outputId": "5459543c-a8a4-4072-ce4a-5e0a12f43f9f"
      },
      "execution_count": 56,
      "outputs": [
        {
          "output_type": "stream",
          "name": "stdout",
          "text": [
            "                                  avg\n",
            "Должность                            \n",
            "Junior Software Engineer   560.841270\n",
            "Senior Software Engineer  3387.096774\n",
            "Software Engineer         1799.070000\n",
            "System Architect          4000.000000\n",
            "Technical Lead            3165.909091\n"
          ]
        }
      ]
    },
    {
      "cell_type": "code",
      "source": [
        "avg_data = fill_avg_salary().describe()\n",
        "print(avg_data)"
      ],
      "metadata": {
        "colab": {
          "base_uri": "https://localhost:8080/"
        },
        "id": "ceYLOnMnGjwI",
        "outputId": "3284e404-75e3-4d68-888a-08e1d7cc8eb2"
      },
      "execution_count": 60,
      "outputs": [
        {
          "output_type": "stream",
          "name": "stdout",
          "text": [
            "               avg\n",
            "count     5.000000\n",
            "mean   2582.583427\n",
            "std    1387.255829\n",
            "min     560.841270\n",
            "25%    1799.070000\n",
            "50%    3165.909091\n",
            "75%    3387.096774\n",
            "max    4000.000000\n"
          ]
        }
      ]
    },
    {
      "cell_type": "code",
      "source": [
        "avg_data.to_csv(\"avg_data_2023\")"
      ],
      "metadata": {
        "id": "Wjh_Ke8XHR7z"
      },
      "execution_count": 62,
      "outputs": []
    }
  ]
}