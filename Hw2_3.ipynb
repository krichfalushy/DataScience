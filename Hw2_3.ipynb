{
  "nbformat": 4,
  "nbformat_minor": 0,
  "metadata": {
    "colab": {
      "provenance": []
    },
    "kernelspec": {
      "name": "python3",
      "display_name": "Python 3"
    },
    "language_info": {
      "name": "python"
    }
  },
  "cells": [
    {
      "cell_type": "code",
      "execution_count": 1,
      "metadata": {
        "id": "iOnbpkcrJh-J"
      },
      "outputs": [],
      "source": [
        "import pandas as pd\n",
        "import numpy as np\n",
        "import matplotlib.pyplot as plt"
      ]
    },
    {
      "cell_type": "code",
      "source": [
        "table = pd.read_csv(\"/content/bestsellers with categories.csv\")\n",
        "print(table)"
      ],
      "metadata": {
        "colab": {
          "base_uri": "https://localhost:8080/"
        },
        "id": "GeVjHLqFdDgd",
        "outputId": "117abd6c-1745-48e0-82ad-50b9d23a68f2"
      },
      "execution_count": 2,
      "outputs": [
        {
          "output_type": "stream",
          "name": "stdout",
          "text": [
            "                                                  Name  \\\n",
            "0                        10-Day Green Smoothie Cleanse   \n",
            "1                                    11/22/63: A Novel   \n",
            "2              12 Rules for Life: An Antidote to Chaos   \n",
            "3                               1984 (Signet Classics)   \n",
            "4    5,000 Awesome Facts (About Everything!) (Natio...   \n",
            "..                                                 ...   \n",
            "545       Wrecking Ball (Diary of a Wimpy Kid Book 14)   \n",
            "546  You Are a Badass: How to Stop Doubting Your Gr...   \n",
            "547  You Are a Badass: How to Stop Doubting Your Gr...   \n",
            "548  You Are a Badass: How to Stop Doubting Your Gr...   \n",
            "549  You Are a Badass: How to Stop Doubting Your Gr...   \n",
            "\n",
            "                       Author  User Rating  Reviews  Price  Year        Genre  \n",
            "0                    JJ Smith          4.7    17350      8  2016  Non Fiction  \n",
            "1                Stephen King          4.6     2052     22  2011      Fiction  \n",
            "2          Jordan B. Peterson          4.7    18979     15  2018  Non Fiction  \n",
            "3               George Orwell          4.7    21424      6  2017      Fiction  \n",
            "4    National Geographic Kids          4.8     7665     12  2019  Non Fiction  \n",
            "..                        ...          ...      ...    ...   ...          ...  \n",
            "545               Jeff Kinney          4.9     9413      8  2019      Fiction  \n",
            "546               Jen Sincero          4.7    14331      8  2016  Non Fiction  \n",
            "547               Jen Sincero          4.7    14331      8  2017  Non Fiction  \n",
            "548               Jen Sincero          4.7    14331      8  2018  Non Fiction  \n",
            "549               Jen Sincero          4.7    14331      8  2019  Non Fiction  \n",
            "\n",
            "[550 rows x 7 columns]\n"
          ]
        }
      ]
    },
    {
      "cell_type": "code",
      "source": [
        "print(table.head())"
      ],
      "metadata": {
        "colab": {
          "base_uri": "https://localhost:8080/"
        },
        "id": "s6g-SqkWs_xg",
        "outputId": "55077abb-ba1c-4973-b460-1f56e090274f"
      },
      "execution_count": 3,
      "outputs": [
        {
          "output_type": "stream",
          "name": "stdout",
          "text": [
            "                                                Name  \\\n",
            "0                      10-Day Green Smoothie Cleanse   \n",
            "1                                  11/22/63: A Novel   \n",
            "2            12 Rules for Life: An Antidote to Chaos   \n",
            "3                             1984 (Signet Classics)   \n",
            "4  5,000 Awesome Facts (About Everything!) (Natio...   \n",
            "\n",
            "                     Author  User Rating  Reviews  Price  Year        Genre  \n",
            "0                  JJ Smith          4.7    17350      8  2016  Non Fiction  \n",
            "1              Stephen King          4.6     2052     22  2011      Fiction  \n",
            "2        Jordan B. Peterson          4.7    18979     15  2018  Non Fiction  \n",
            "3             George Orwell          4.7    21424      6  2017      Fiction  \n",
            "4  National Geographic Kids          4.8     7665     12  2019  Non Fiction  \n"
          ]
        }
      ]
    },
    {
      "cell_type": "code",
      "source": [
        "print(f\"rows and columns: {table.shape}\")"
      ],
      "metadata": {
        "colab": {
          "base_uri": "https://localhost:8080/"
        },
        "id": "aK94N1U3tI51",
        "outputId": "f97ffed9-7a12-43a4-9e8b-d51890c9798b"
      },
      "execution_count": 4,
      "outputs": [
        {
          "output_type": "stream",
          "name": "stdout",
          "text": [
            "rows and columns: (550, 7)\n"
          ]
        }
      ]
    },
    {
      "cell_type": "code",
      "source": [
        "\"\"\" Про скільки книг зберігає дані датасет? Відповідь: 550 книг \"\"\""
      ],
      "metadata": {
        "colab": {
          "base_uri": "https://localhost:8080/",
          "height": 36
        },
        "id": "rmTSkhFqtXSZ",
        "outputId": "8912be24-858c-48c8-c3c3-79534354848d"
      },
      "execution_count": 5,
      "outputs": [
        {
          "output_type": "execute_result",
          "data": {
            "text/plain": [
              "' Про скільки книг зберігає дані датасет? Відповідь: 550 книг '"
            ],
            "application/vnd.google.colaboratory.intrinsic+json": {
              "type": "string"
            }
          },
          "metadata": {},
          "execution_count": 5
        }
      ]
    },
    {
      "cell_type": "code",
      "source": [
        "table.columns = [\"name\", \"author\", \"user_rating\", \"reviews\", \"price\", \"year\", \"genre\"]\n",
        "print(table)"
      ],
      "metadata": {
        "colab": {
          "base_uri": "https://localhost:8080/"
        },
        "id": "Jj_sFo0WuHCO",
        "outputId": "716f7fed-69ee-4a15-d341-2f6f1fe3dda4"
      },
      "execution_count": 6,
      "outputs": [
        {
          "output_type": "stream",
          "name": "stdout",
          "text": [
            "                                                  name  \\\n",
            "0                        10-Day Green Smoothie Cleanse   \n",
            "1                                    11/22/63: A Novel   \n",
            "2              12 Rules for Life: An Antidote to Chaos   \n",
            "3                               1984 (Signet Classics)   \n",
            "4    5,000 Awesome Facts (About Everything!) (Natio...   \n",
            "..                                                 ...   \n",
            "545       Wrecking Ball (Diary of a Wimpy Kid Book 14)   \n",
            "546  You Are a Badass: How to Stop Doubting Your Gr...   \n",
            "547  You Are a Badass: How to Stop Doubting Your Gr...   \n",
            "548  You Are a Badass: How to Stop Doubting Your Gr...   \n",
            "549  You Are a Badass: How to Stop Doubting Your Gr...   \n",
            "\n",
            "                       author  user_rating  reviews  price  year        genre  \n",
            "0                    JJ Smith          4.7    17350      8  2016  Non Fiction  \n",
            "1                Stephen King          4.6     2052     22  2011      Fiction  \n",
            "2          Jordan B. Peterson          4.7    18979     15  2018  Non Fiction  \n",
            "3               George Orwell          4.7    21424      6  2017      Fiction  \n",
            "4    National Geographic Kids          4.8     7665     12  2019  Non Fiction  \n",
            "..                        ...          ...      ...    ...   ...          ...  \n",
            "545               Jeff Kinney          4.9     9413      8  2019      Fiction  \n",
            "546               Jen Sincero          4.7    14331      8  2016  Non Fiction  \n",
            "547               Jen Sincero          4.7    14331      8  2017  Non Fiction  \n",
            "548               Jen Sincero          4.7    14331      8  2018  Non Fiction  \n",
            "549               Jen Sincero          4.7    14331      8  2019  Non Fiction  \n",
            "\n",
            "[550 rows x 7 columns]\n"
          ]
        }
      ]
    },
    {
      "cell_type": "code",
      "source": [
        "print(table.isna().sum())\n",
        "\"\"\" Чи є в якихось змінних пропуски? Відповідь: Ні \"\"\""
      ],
      "metadata": {
        "colab": {
          "base_uri": "https://localhost:8080/",
          "height": 178
        },
        "id": "B9tsnwO7Hq6M",
        "outputId": "f34fbd20-ee13-49f8-dea2-af727572c6c1"
      },
      "execution_count": 7,
      "outputs": [
        {
          "output_type": "stream",
          "name": "stdout",
          "text": [
            "name           0\n",
            "author         0\n",
            "user_rating    0\n",
            "reviews        0\n",
            "price          0\n",
            "year           0\n",
            "genre          0\n",
            "dtype: int64\n"
          ]
        },
        {
          "output_type": "execute_result",
          "data": {
            "text/plain": [
              "' Чи є в якихось змінних пропуски? Відповідь: Ні '"
            ],
            "application/vnd.google.colaboratory.intrinsic+json": {
              "type": "string"
            }
          },
          "metadata": {},
          "execution_count": 7
        }
      ]
    },
    {
      "cell_type": "code",
      "source": [
        "print(table[\"genre\"].unique())\n",
        "\"\"\" Які є унікальні жанри? Відповідь: Non Fiction, Fiction \"\"\""
      ],
      "metadata": {
        "colab": {
          "base_uri": "https://localhost:8080/",
          "height": 53
        },
        "id": "62zwyiT3IOCx",
        "outputId": "a252f516-a0d6-4324-e0b7-f633cea49c5f"
      },
      "execution_count": 8,
      "outputs": [
        {
          "output_type": "stream",
          "name": "stdout",
          "text": [
            "['Non Fiction' 'Fiction']\n"
          ]
        },
        {
          "output_type": "execute_result",
          "data": {
            "text/plain": [
              "' Які є унікальні жанри? Відповідь: Non Fiction, Fiction '"
            ],
            "application/vnd.google.colaboratory.intrinsic+json": {
              "type": "string"
            }
          },
          "metadata": {},
          "execution_count": 8
        }
      ]
    },
    {
      "cell_type": "code",
      "source": [
        "table[\"price\"].plot(kind=\"hist\")\n",
        "plt.show()"
      ],
      "metadata": {
        "colab": {
          "base_uri": "https://localhost:8080/",
          "height": 430
        },
        "id": "6tS0-Eh5JLYS",
        "outputId": "9c17c477-4719-4bb5-be4d-22d7cda873f1"
      },
      "execution_count": 9,
      "outputs": [
        {
          "output_type": "display_data",
          "data": {
            "text/plain": [
              "<Figure size 640x480 with 1 Axes>"
            ],
            "image/png": "[encoded data removed]"
          },
          "metadata": {}
        }
      ]
    },
    {
      "cell_type": "code",
      "source": [
        "print(f\"\"\"\n",
        "Максимальна ціна? Відповідь: {table[\"price\"].max()}\n",
        "Мінімальна ціна? Відповідь: {table[\"price\"].min()}\n",
        "Середня ціна? Відповідь: {table[\"price\"].mean()}\n",
        "Медіанна ціна? Відповідь: {table[\"price\"].median()}\n",
        "      \"\"\")"
      ],
      "metadata": {
        "colab": {
          "base_uri": "https://localhost:8080/"
        },
        "id": "hE2n3y4jKBVW",
        "outputId": "9916c3f8-7294-40bf-aaa2-480830e2606c"
      },
      "execution_count": 12,
      "outputs": [
        {
          "output_type": "stream",
          "name": "stdout",
          "text": [
            "\n",
            "Максимальна ціна? Відповідь: 105\n",
            "Мінімальна ціна? Відповідь: 0\n",
            "Середня ціна? Відповідь: 13.1\n",
            "Медіанна ціна? Відповідь: 11.0\n",
            "      \n"
          ]
        }
      ]
    },
    {
      "cell_type": "code",
      "source": [
        "print(f\"\"\"\n",
        "Який рейтинг у датасеті найвищий? Відповідь: {table[\"user_rating\"].max()}\n",
        "\"\"\")"
      ],
      "metadata": {
        "colab": {
          "base_uri": "https://localhost:8080/"
        },
        "id": "PIUw2FQ6Kd38",
        "outputId": "56ae4a5f-fd4c-41f8-e5ec-359d0a869682"
      },
      "execution_count": 13,
      "outputs": [
        {
          "output_type": "stream",
          "name": "stdout",
          "text": [
            "\n",
            "Який рейтинг у датасеті найвищий? Відповідь: 4.9\n",
            "\n"
          ]
        }
      ]
    },
    {
      "cell_type": "code",
      "source": [
        "print(f\"\"\"\n",
        "Скільки книг мають такий рейтинг? Відповідь: {table[\"user_rating\"][table[\"user_rating\"] == table[\"user_rating\"].max()]}\n",
        "\"\"\")"
      ],
      "metadata": {
        "colab": {
          "base_uri": "https://localhost:8080/"
        },
        "id": "Yx_cizj3Lte0",
        "outputId": "16731f39-69ff-47fb-98c6-1447a9f08ab9"
      },
      "execution_count": 14,
      "outputs": [
        {
          "output_type": "stream",
          "name": "stdout",
          "text": [
            "\n",
            "Скільки книг мають такий рейтинг? Відповідь: 40     4.9\n",
            "41     4.9\n",
            "81     4.9\n",
            "82     4.9\n",
            "83     4.9\n",
            "84     4.9\n",
            "85     4.9\n",
            "86     4.9\n",
            "87     4.9\n",
            "146    4.9\n",
            "147    4.9\n",
            "151    4.9\n",
            "153    4.9\n",
            "155    4.9\n",
            "156    4.9\n",
            "157    4.9\n",
            "174    4.9\n",
            "187    4.9\n",
            "188    4.9\n",
            "189    4.9\n",
            "190    4.9\n",
            "191    4.9\n",
            "192    4.9\n",
            "207    4.9\n",
            "219    4.9\n",
            "244    4.9\n",
            "245    4.9\n",
            "246    4.9\n",
            "247    4.9\n",
            "248    4.9\n",
            "249    4.9\n",
            "250    4.9\n",
            "251    4.9\n",
            "252    4.9\n",
            "288    4.9\n",
            "289    4.9\n",
            "303    4.9\n",
            "420    4.9\n",
            "431    4.9\n",
            "476    4.9\n",
            "477    4.9\n",
            "478    4.9\n",
            "479    4.9\n",
            "480    4.9\n",
            "481    4.9\n",
            "482    4.9\n",
            "486    4.9\n",
            "487    4.9\n",
            "488    4.9\n",
            "489    4.9\n",
            "521    4.9\n",
            "545    4.9\n",
            "Name: user_rating, dtype: float64\n",
            "\n"
          ]
        }
      ]
    },
    {
      "cell_type": "code",
      "source": [
        "print(\"\"\"\n",
        "Яка книга має найбільше відгуків? Відповідь:\n",
        "\"\"\")\n",
        "print(table[table[\"reviews\"] == table[\"reviews\"].max()][[\"name\", \"reviews\"]])"
      ],
      "metadata": {
        "colab": {
          "base_uri": "https://localhost:8080/"
        },
        "id": "3tWI0M5vMrjA",
        "outputId": "899e6402-c470-4de4-eeb4-248c545d6b90"
      },
      "execution_count": 15,
      "outputs": [
        {
          "output_type": "stream",
          "name": "stdout",
          "text": [
            "\n",
            "Яка книга має найбільше відгуків? Відповідь:\n",
            "\n",
            "                        name  reviews\n",
            "534  Where the Crawdads Sing    87841\n"
          ]
        }
      ]
    },
    {
      "cell_type": "code",
      "source": [
        "table_2015 = table[table[\"year\"] == 2015]\n",
        "print(\"\"\"\n",
        "З тих книг, що потрапили до Топ-50 у 2015 році, яка книга найдорожча? Відповідь:\n",
        "\"\"\")\n",
        "print(table_2015[table_2015[\"price\"] == table_2015[\"price\"].max()])"
      ],
      "metadata": {
        "colab": {
          "base_uri": "https://localhost:8080/"
        },
        "id": "ktoEFcybPsIV",
        "outputId": "aa9a009b-e4d1-48d6-94eb-8dc4c7faa445"
      },
      "execution_count": 16,
      "outputs": [
        {
          "output_type": "stream",
          "name": "stdout",
          "text": [
            "\n",
            "З тих книг, що потрапили до Топ-50 у 2015 році, яка книга найдорожча? Відповідь:\n",
            "\n",
            "                                                  name  \\\n",
            "277  Publication Manual of the American Psychologic...   \n",
            "\n",
            "                                 author  user_rating  reviews  price  year  \\\n",
            "277  American Psychological Association          4.5     8580     46  2015   \n",
            "\n",
            "           genre  \n",
            "277  Non Fiction  \n"
          ]
        }
      ]
    },
    {
      "cell_type": "code",
      "source": [
        "fiction_table = table[(table[\"genre\"] == \"Fiction\") & (table[\"year\"] == 2010)]\n",
        "# print(fiction_table)\n",
        "rows, columns = fiction_table.shape\n",
        "print(f\"\"\"\n",
        "Скільки книг жанру Fiction потрапили до Топ-50 у 2010 році (використовуйте &)? Відповідь: {rows}\n",
        "\"\"\")"
      ],
      "metadata": {
        "colab": {
          "base_uri": "https://localhost:8080/"
        },
        "id": "oE_PIJjRSezy",
        "outputId": "7ab5ba76-05fb-4c18-f389-56c676bf3e79"
      },
      "execution_count": 17,
      "outputs": [
        {
          "output_type": "stream",
          "name": "stdout",
          "text": [
            "\n",
            "Скільки книг жанру Fiction потрапили до Топ-50 у 2010 році (використовуйте &)? Відповідь: 20\n",
            "\n"
          ]
        }
      ]
    },
    {
      "cell_type": "code",
      "source": [
        "table_year = table[[\"user_rating\", \"year\"]].isin([4.9, 2010, 2011])\n",
        "true_table = table_year[(table_year[\"user_rating\"] == True) & (table_year[\"year\"] == True)]\n",
        "rows, columns = true_table.shape\n",
        "print(true_table)\n",
        "print(f\"\"\"\n",
        "Скільки книг з рейтингом 4.9 потрапило до рейтингу у 2010 та 2011 роках? Відповідь: {rows}\n",
        "\"\"\")\n",
        "\n",
        "\n",
        "# check:\n",
        "# year_table = table[(table[\"year\"] == 2011) & (table[\"user_rating\"] == 4.9)][[\"user_rating\", \"year\"]]\n",
        "# year_table = table[(table[\"year\"] == 2010) & (table[\"user_rating\"] == 4.9)][[\"user_rating\", \"year\"]]"
      ],
      "metadata": {
        "colab": {
          "base_uri": "https://localhost:8080/"
        },
        "id": "CSyk8lkCXgMb",
        "outputId": "a3f7e92d-ffd7-4da8-92aa-d99976bd1a67"
      },
      "execution_count": 18,
      "outputs": [
        {
          "output_type": "stream",
          "name": "stdout",
          "text": [
            "     user_rating  year\n",
            "187         True  True\n",
            "\n",
            "Скільки книг з рейтингом 4.9 потрапило до рейтингу у 2010 та 2011 роках? Відповідь: 1\n",
            "\n"
          ]
        }
      ]
    },
    {
      "cell_type": "code",
      "source": [
        "table_sort = table[(table[\"year\"] == 2015) & (table[\"price\"] < 8)][[\"price\", \"year\"]]\n",
        "table_sort = table_sort.sort_values(by=\"price\")\n",
        "print(table_sort)\n",
        "print(f\"\"\"\n",
        "Яка книга остання у відсортованому списку? Відповідь:\\n {table.iloc[253]}\n",
        "\"\"\")"
      ],
      "metadata": {
        "colab": {
          "base_uri": "https://localhost:8080/"
        },
        "id": "Xb8TMFB0gUTY",
        "outputId": "13a75529-18a9-4127-a6b3-33493e938921"
      },
      "execution_count": 19,
      "outputs": [
        {
          "output_type": "stream",
          "name": "stdout",
          "text": [
            "     price  year\n",
            "507      0  2015\n",
            "210      4  2015\n",
            "206      4  2015\n",
            "111      4  2015\n",
            "123      4  2015\n",
            "54       4  2015\n",
            "63       5  2015\n",
            "89       5  2015\n",
            "478      5  2015\n",
            "201      5  2015\n",
            "28       5  2015\n",
            "224      5  2015\n",
            "55       5  2015\n",
            "17       6  2015\n",
            "376      6  2015\n",
            "16       6  2015\n",
            "253      7  2015\n",
            "\n",
            "Яка книга остання у відсортованому списку? Відповідь:\n",
            " name           Old School (Diary of a Wimpy Kid #10)\n",
            "author                                   Jeff Kinney\n",
            "user_rating                                      4.8\n",
            "reviews                                         6169\n",
            "price                                              7\n",
            "year                                            2015\n",
            "genre                                        Fiction\n",
            "Name: 253, dtype: object\n",
            "\n"
          ]
        }
      ]
    },
    {
      "cell_type": "code",
      "source": [
        "table_price = table[[\"price\",  \"genre\"]]\n",
        "table_agg = table_price.groupby(\"genre\").agg({\"price\": [\"min\", \"max\"]})\n",
        "# print(table_price)\n",
        "print(table_agg)\n",
        "print(f\"\"\"\n",
        "Максимальна ціна для жанру Fiction: Відповідь: {table_agg[\"price\"][\"max\"][\"Fiction\"]}\n",
        "\n",
        "Мінімальна ціна для жанру Fiction: Відповідь: {table_agg[\"price\"][\"min\"][\"Fiction\"]}\n",
        "\n",
        "Максимальна ціна для жанру Non Fiction: Відповідь: {table_agg[\"price\"][\"max\"][\"Non Fiction\"]}\n",
        "\n",
        "Мінімальна ціна для жанру Non Fiction: Відповідь: {table_agg[\"price\"][\"min\"][\"Non Fiction\"]}\n",
        "\"\"\")"
      ],
      "metadata": {
        "colab": {
          "base_uri": "https://localhost:8080/"
        },
        "id": "TghHgaqFkOOi",
        "outputId": "395e530a-7a51-4a2f-ffe9-961263f57ac9"
      },
      "execution_count": 20,
      "outputs": [
        {
          "output_type": "stream",
          "name": "stdout",
          "text": [
            "            price     \n",
            "              min  max\n",
            "genre                 \n",
            "Fiction         0   82\n",
            "Non Fiction     0  105\n",
            "\n",
            "Максимальна ціна для жанру Fiction: Відповідь: 82\n",
            "\n",
            "Мінімальна ціна для жанру Fiction: Відповідь: 0\n",
            "\n",
            "Максимальна ціна для жанру Non Fiction: Відповідь: 105\n",
            "\n",
            "Мінімальна ціна для жанру Non Fiction: Відповідь: 0\n",
            "\n"
          ]
        }
      ]
    },
    {
      "cell_type": "code",
      "source": [
        "# [\"name\", \"author\", \"user_rating\", \"reviews\", \"price\", \"year\", \"genre\"]\n",
        "\n",
        "new_table = pd.DataFrame({\"book_name\": table[\"name\"],\n",
        "                          \"author\": table[\"author\"]})\n",
        "\n",
        "table_author = new_table.groupby(\"author\").agg({\"book_name\": \"count\"})\n",
        "# print(table_author)\n",
        "\n",
        "rows, columns = table_author.shape\n",
        "max_author = table_author[table_author[\"book_name\"] == table_author[\"book_name\"].max()]\n",
        "\n",
        "print(f\"\"\"\n",
        "Якої розмірності вийшла таблиця? Відповідь: {rows} x {columns}\n",
        "\n",
        "Який автор має найбільше книг? Відповідь: Jeff Kinney\n",
        "\n",
        "Скільки книг цього автора? Відповідь: 12\n",
        "\"\"\")"
      ],
      "metadata": {
        "colab": {
          "base_uri": "https://localhost:8080/"
        },
        "id": "MrT_6Zl_pPI0",
        "outputId": "2fc198e7-bc99-47a0-ea39-d9ce1c50e987"
      },
      "execution_count": 21,
      "outputs": [
        {
          "output_type": "stream",
          "name": "stdout",
          "text": [
            "\n",
            "Якої розмірності вийшла таблиця? Відповідь: 248 x 1\n",
            "\n",
            "Який автор має найбільше книг? Відповідь: Jeff Kinney\n",
            "\n",
            "Скільки книг цього автора? Відповідь: 12\n",
            "\n"
          ]
        }
      ]
    },
    {
      "cell_type": "code",
      "source": [
        "table_mean = pd.DataFrame({\"author\": table[\"author\"],\n",
        "                           \"user_rating\": table[\"user_rating\"]})\n",
        "\n",
        "table_mean = table_mean.groupby(\"author\").agg({\"user_rating\": [\"mean\"]})\n",
        "min_value = table_mean[\"user_rating\"][\"mean\"].min()\n",
        "print(table_mean[table_mean[\"user_rating\"][\"mean\"] == min_value])\n",
        "\n",
        "print(f\"\"\"\n",
        "У якого автора середній рейтинг мінімальний? Відповідь: Donna Tartt\n",
        "\n",
        "Який у цього автора середній рейтинг? Відповідь: {min_value}\n",
        "\"\"\")"
      ],
      "metadata": {
        "colab": {
          "base_uri": "https://localhost:8080/"
        },
        "id": "0slQKWdSxUKx",
        "outputId": "bdb588da-55ce-48bd-b2dd-2dae18e3dedb"
      },
      "execution_count": 31,
      "outputs": [
        {
          "output_type": "stream",
          "name": "stdout",
          "text": [
            "            user_rating\n",
            "                   mean\n",
            "author                 \n",
            "Donna Tartt         3.9\n",
            "\n",
            "У якого автора середній рейтинг мінімальний? Відповідь: Donna Tartt\n",
            "\n",
            "Який у цього автора середній рейтинг? Відповідь: 3.9\n",
            "\n"
          ]
        }
      ]
    },
    {
      "cell_type": "code",
      "source": [
        "table_concat = pd.concat([table_author, table_mean[\"user_rating\"]], axis=1)\n",
        "print(table_concat)"
      ],
      "metadata": {
        "colab": {
          "base_uri": "https://localhost:8080/"
        },
        "id": "gGB4XFTKqvq9",
        "outputId": "21aae211-9617-40d5-9185-4234c8491f00"
      },
      "execution_count": 35,
      "outputs": [
        {
          "output_type": "stream",
          "name": "stdout",
          "text": [
            "                            book_name      mean\n",
            "author                                         \n",
            "Abraham Verghese                    2  4.600000\n",
            "Adam Gasiewski                      1  4.400000\n",
            "Adam Mansbach                       1  4.800000\n",
            "Adir Levy                           1  4.800000\n",
            "Admiral William H. McRaven          1  4.700000\n",
            "...                               ...       ...\n",
            "Walter Isaacson                     3  4.566667\n",
            "William Davis                       2  4.400000\n",
            "William P. Young                    2  4.600000\n",
            "Wizards RPG Team                    3  4.800000\n",
            "Zhi Gang Sha                        2  4.600000\n",
            "\n",
            "[248 rows x 2 columns]\n"
          ]
        }
      ]
    },
    {
      "cell_type": "code",
      "source": [
        "table_concat_sorted = table_concat.sort_values(by=[\"book_name\", \"mean\"])\n",
        "print(table_concat_sorted)\n",
        "print(\"\"\"\n",
        "Який автор перший у списку? Відповідь: Muriel Barbery\n",
        "\"\"\")"
      ],
      "metadata": {
        "colab": {
          "base_uri": "https://localhost:8080/"
        },
        "id": "-CUGjHNG0GWf",
        "outputId": "e2975def-cd30-4946-cc90-18aa6cf759b7"
      },
      "execution_count": 43,
      "outputs": [
        {
          "output_type": "stream",
          "name": "stdout",
          "text": [
            "                                    book_name      mean\n",
            "author                                                 \n",
            "Muriel Barbery                              1  4.000000\n",
            "Chris Cleave                                1  4.100000\n",
            "Ian K. Smith M.D.                           1  4.100000\n",
            "Pierre Dukan                                1  4.100000\n",
            "Elizabeth Strout                            1  4.200000\n",
            "...                                       ...       ...\n",
            "American Psychological Association         10  4.500000\n",
            "Suzanne Collins                            11  4.663636\n",
            "Gary Chapman                               11  4.736364\n",
            "Rick Riordan                               11  4.772727\n",
            "Jeff Kinney                                12  4.800000\n",
            "\n",
            "[248 rows x 2 columns]\n",
            "\n",
            "Який автор перший у списку? Відповідь: Muriel Barbery\n",
            "\n"
          ]
        }
      ]
    }
  ]
}
