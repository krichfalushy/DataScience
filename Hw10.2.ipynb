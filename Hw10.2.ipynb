{
  "nbformat": 4,
  "nbformat_minor": 0,
  "metadata": {
    "colab": {
      "provenance": []
    },
    "kernelspec": {
      "name": "python3",
      "display_name": "Python 3"
    },
    "language_info": {
      "name": "python"
    }
  },
  "cells": [
    {
      "cell_type": "markdown",
      "source": [
        "# Побудова CNN за допомогою Keras, що використовує VGG16 в якості згорткової основи"
      ],
      "metadata": {
        "id": "HWqpSoQDSxGf"
      }
    },
    {
      "cell_type": "code",
      "source": [
        "import numpy as np\n",
        "import matplotlib.pyplot as plt\n",
        "import tensorflow as tf\n",
        "import tensorflow.keras as keras\n",
        "from keras.preprocessing.image import ImageDataGenerator\n",
        "from keras.datasets import fashion_mnist\n",
        "from keras import models\n",
        "from keras import layers\n",
        "from keras import optimizers\n",
        "from keras import utils"
      ],
      "metadata": {
        "id": "KK2FpCr3U_z3"
      },
      "execution_count": 103,
      "outputs": []
    },
    {
      "cell_type": "code",
      "source": [
        "(x_train, y_train), (x_test, y_test) = fashion_mnist.load_data()"
      ],
      "metadata": {
        "id": "I17bsroOVe6C"
      },
      "execution_count": 104,
      "outputs": []
    },
    {
      "cell_type": "code",
      "source": [
        "x_train = np.reshape(x_train, (-1, 28, 28, 1))\n",
        "x_test = np.reshape(x_test, (-1, 28, 28, 1))\n",
        "\n",
        "x_train = tf.keras.layers.Concatenate()([x_train, x_train, x_train])\n",
        "x_test = tf.keras.layers.Concatenate()([x_test, x_test, x_test])\n",
        "\n",
        "y_train = utils.to_categorical(y_train)\n",
        "y_test = utils.to_categorical(y_test)\n",
        "\n",
        "print(f\"x_train: {x_train.shape}, x_test: {x_test.shape}\\ny_train: {y_train.shape}, y_test: {y_test.shape}\")"
      ],
      "metadata": {
        "id": "a1zgIwUpVjyb",
        "colab": {
          "base_uri": "https://localhost:8080/"
        },
        "outputId": "7d8ed234-40ec-4bdd-cb97-6cac3dc9b800"
      },
      "execution_count": 105,
      "outputs": [
        {
          "output_type": "stream",
          "name": "stdout",
          "text": [
            "x_train: (60000, 28, 28, 3), x_test: (10000, 28, 28, 3)\n",
            "y_train: (60000, 10), y_test: (10000, 10)\n"
          ]
        }
      ]
    },
    {
      "cell_type": "code",
      "source": [
        "x_train_res = tf.image.resize(x_train, (32, 32))\n",
        "x_test_res = tf.image.resize(x_test, (32, 32))\n",
        "\n",
        "print(f\"x_train_res: {x_train_res.shape}, x_test_res: {x_test_res.shape}\")"
      ],
      "metadata": {
        "id": "4UCn1NpwWYHC",
        "colab": {
          "base_uri": "https://localhost:8080/"
        },
        "outputId": "32385aad-5b4e-44b3-c759-e05565f1f01c"
      },
      "execution_count": 106,
      "outputs": [
        {
          "output_type": "stream",
          "name": "stdout",
          "text": [
            "x_train_res: (60000, 32, 32, 3), x_test_res: (10000, 32, 32, 3)\n"
          ]
        }
      ]
    },
    {
      "cell_type": "code",
      "source": [
        "from keras.preprocessing.image import img_to_array\n",
        "\n",
        "\n",
        "train_X = np.asarray([img_to_array(img) for img in x_train_res])\n",
        "test_X = np.asarray([img_to_array(img) for img in x_test_res])"
      ],
      "metadata": {
        "id": "cMZSJAIvWz0Z"
      },
      "execution_count": 107,
      "outputs": []
    },
    {
      "cell_type": "code",
      "source": [
        "from sklearn.model_selection import train_test_split\n",
        "\n",
        "\n",
        "x_train, x_val, y_train, y_val = train_test_split(train_X,\n",
        "                                                  y_train,\n",
        "                                                  test_size=0.2,\n",
        "                                                  random_state=13)"
      ],
      "metadata": {
        "id": "yus7cCtXaTD2"
      },
      "execution_count": 108,
      "outputs": []
    },
    {
      "cell_type": "code",
      "source": [
        "train_datagen = ImageDataGenerator(\n",
        "    rescale=1./255,\n",
        "    rotation_range=20,\n",
        "    width_shift_range=0.2,\n",
        "    height_shift_range=0.2,\n",
        "    shear_range=0.2,\n",
        "    zoom_range=0.2,\n",
        "    horizontal_flip=True,\n",
        "    fill_mode=\"nearest\")\n",
        "\n",
        "test_datagen = ImageDataGenerator(rescale=1./255)"
      ],
      "metadata": {
        "id": "FvGR3RmZJtbG"
      },
      "execution_count": 109,
      "outputs": []
    },
    {
      "cell_type": "code",
      "source": [
        "train_datagen.fit(x_train)\n",
        "test_datagen.fit(x_val)"
      ],
      "metadata": {
        "id": "mfp-uwpnpqiT"
      },
      "execution_count": 110,
      "outputs": []
    },
    {
      "cell_type": "code",
      "source": [
        "train_generator = train_datagen.flow(\n",
        "    x_train,\n",
        "    y_train,\n",
        "    batch_size=200)\n",
        "\n",
        "test_generator = test_datagen.flow(\n",
        "    x_val,\n",
        "    y_val,\n",
        "    batch_size=200)"
      ],
      "metadata": {
        "id": "DiPH-dFupgx3"
      },
      "execution_count": 111,
      "outputs": []
    },
    {
      "cell_type": "code",
      "source": [
        "from keras.applications.vgg16 import VGG16\n",
        "\n",
        "\n",
        "conv_base = VGG16(weights=\"imagenet\", include_top=False, input_shape=(150, 150, 3))\n",
        "conv_base.trainable = False\n",
        "\n",
        "original_dim = (32, 32, 3)\n",
        "target_size = (150, 150)"
      ],
      "metadata": {
        "id": "WpSZwEmoKgJs"
      },
      "execution_count": 112,
      "outputs": []
    },
    {
      "cell_type": "code",
      "source": [
        "model = models.Sequential([\n",
        "    layers.Input(original_dim),\n",
        "    layers.Lambda(lambda image: tf.image.resize(image, target_size)),\n",
        "    conv_base,\n",
        "\n",
        "    layers.Flatten(),\n",
        "    layers.Dropout(0.3),\n",
        "\n",
        "    layers.Dense(256, activation=\"relu\", kernel_initializer=\"he_uniform\"),\n",
        "    layers.Dense(10, activation=\"softmax\"),\n",
        "])"
      ],
      "metadata": {
        "id": "bGTcrtLZyVpk"
      },
      "execution_count": 113,
      "outputs": []
    },
    {
      "cell_type": "code",
      "source": [
        "model.summary()"
      ],
      "metadata": {
        "colab": {
          "base_uri": "https://localhost:8080/"
        },
        "id": "__L6pkAjyWMV",
        "outputId": "ccb9a143-4591-4d9e-a349-7d9d1d75775e"
      },
      "execution_count": 114,
      "outputs": [
        {
          "output_type": "stream",
          "name": "stdout",
          "text": [
            "Model: \"sequential_10\"\n",
            "_________________________________________________________________\n",
            " Layer (type)                Output Shape              Param #   \n",
            "=================================================================\n",
            " lambda_7 (Lambda)           (None, 150, 150, 3)       0         \n",
            "                                                                 \n",
            " vgg16 (Functional)          (None, 4, 4, 512)         14714688  \n",
            "                                                                 \n",
            " flatten_10 (Flatten)        (None, 8192)              0         \n",
            "                                                                 \n",
            " dropout_10 (Dropout)        (None, 8192)              0         \n",
            "                                                                 \n",
            " dense_20 (Dense)            (None, 256)               2097408   \n",
            "                                                                 \n",
            " dense_21 (Dense)            (None, 128)               32896     \n",
            "                                                                 \n",
            " dense_22 (Dense)            (None, 10)                1290      \n",
            "                                                                 \n",
            "=================================================================\n",
            "Total params: 16846282 (64.26 MB)\n",
            "Trainable params: 2131594 (8.13 MB)\n",
            "Non-trainable params: 14714688 (56.13 MB)\n",
            "_________________________________________________________________\n"
          ]
        }
      ]
    },
    {
      "cell_type": "code",
      "source": [
        "model.compile(\n",
        "    loss=\"categorical_crossentropy\",\n",
        "    optimizer=tf.keras.optimizers.RMSprop(learning_rate=2e-5),\n",
        "    metrics=[\"accuracy\"])"
      ],
      "metadata": {
        "id": "UyUOLKYSJJN4"
      },
      "execution_count": 115,
      "outputs": []
    },
    {
      "cell_type": "code",
      "source": [
        "history = model.fit(train_generator,\n",
        "                    epochs=10,\n",
        "                    steps_per_epoch=100,\n",
        "                    validation_data=test_generator,\n",
        "                    validation_steps=50,\n",
        "                    shuffle=True)"
      ],
      "metadata": {
        "id": "tvPT9ncXwU92"
      },
      "execution_count": null,
      "outputs": []
    },
    {
      "cell_type": "code",
      "source": [
        "epochs = range(1, len(history.history[\"accuracy\"]) + 1)\n",
        "\n",
        "plt.figure(figsize=(8, 4))\n",
        "plt.plot(epochs, history.history[\"accuracy\"], \":\", label=\"Training accuracy\")\n",
        "plt.plot(epochs, history.history[\"val_accuracy\"], label=\"Validation accuracy\")\n",
        "\n",
        "plt.title(\"Training and validation accuracies\")\n",
        "plt.legend()\n",
        "\n",
        "\n",
        "plt.figure(figsize=(8, 4))\n",
        "plt.plot(epochs, history.history[\"loss\"], \":\", label=\"Training loss\")\n",
        "plt.plot(epochs, history.history[\"val_loss\"], label=\"Validation loss\")\n",
        "\n",
        "plt.title(\"Training and validation losses\")\n",
        "plt.legend()\n",
        "\n",
        "plt.show()"
      ],
      "metadata": {
        "id": "JPcr1FrT4MoI"
      },
      "execution_count": null,
      "outputs": []
    },
    {
      "cell_type": "code",
      "source": [
        "model.save(\"/content/drive/MyDrive/prepared_train_data/models/vgg16_basesd_model.hdf5\")"
      ],
      "metadata": {
        "id": "u7_DT8mr5fZr"
      },
      "execution_count": null,
      "outputs": []
    },
    {
      "cell_type": "markdown",
      "source": [
        "## Донавчання"
      ],
      "metadata": {
        "id": "K-h7LjzCblF_"
      }
    },
    {
      "cell_type": "code",
      "source": [
        "conv_base.summary()"
      ],
      "metadata": {
        "id": "n2XXfNstbqcC"
      },
      "execution_count": null,
      "outputs": []
    },
    {
      "cell_type": "code",
      "source": [
        "# Розморозка шарів\n",
        "\n",
        "# conv_base.trainable = True\n",
        "# set_trainable = False\n",
        "# for layer in conv_base.layers:\n",
        "#     if layer.name == \"block5_conv1\": # останні шари\n",
        "#         set_trainable = True\n",
        "#     if set_trainable:\n",
        "#         layer.trainable = True\n",
        "#     else:\n",
        "#         layer.trainable = False"
      ],
      "metadata": {
        "id": "O5eGkKsOO_KS"
      },
      "execution_count": null,
      "outputs": []
    }
  ]
}
