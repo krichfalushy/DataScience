{
  "cells": [
    {
      "cell_type": "code",
      "execution_count": 1,
      "metadata": {
        "id": "VILGohb6VuZb"
      },
      "outputs": [],
      "source": [
        "import numpy as np\n",
        "import pandas as pd\n",
        "from sklearn.linear_model import LinearRegression"
      ]
    },
    {
      "cell_type": "code",
      "execution_count": 2,
      "metadata": {
        "id": "bM2fGKTZ3iG0"
      },
      "outputs": [],
      "source": [
        "def h(X, w):\n",
        "    return np.dot(X, w)"
      ]
    },
    {
      "cell_type": "code",
      "execution_count": 3,
      "metadata": {
        "id": "2DkLuB6v5nnK"
      },
      "outputs": [],
      "source": [
        "def loss_function(X, y, w):\n",
        "    return np.square(h(X, w) - y).sum() / (2 * len(X))"
      ]
    },
    {
      "cell_type": "code",
      "execution_count": 4,
      "metadata": {
        "id": "0aZp0WZ57rIl"
      },
      "outputs": [],
      "source": [
        "# реалізуйте один крок градієнтного спуску\n",
        "def gradient_step(X, y, w, learning_rate):\n",
        "    m = len(y)\n",
        "    grad = (X.T @ (h(X, w) - y)) / m\n",
        "    w -= learning_rate * grad\n",
        "    return w"
      ]
    },
    {
      "cell_type": "code",
      "execution_count": 5,
      "metadata": {
        "id": "2Zvr4VL5G840"
      },
      "outputs": [],
      "source": [
        "def gradient(X, y, learning_rate, num_iter, eps):\n",
        "    ones = np.ones((X.shape[0], 1))\n",
        "    X = np.hstack((ones, X))\n",
        "\n",
        "    w = np.zeros(X.shape[1])  # Initialize weights\n",
        "\n",
        "    loss = loss_function(X, y, w)\n",
        "    loss_history = [loss]\n",
        "\n",
        "    for _ in range(num_iter):\n",
        "        w = gradient_step(X, y, w, learning_rate)\n",
        "\n",
        "        loss = loss_function(X, y, w)\n",
        "        if abs(loss - loss_history[-1]) < eps:\n",
        "            loss_history.append(loss)\n",
        "            break\n",
        "\n",
        "        loss_history.append(loss)\n",
        "\n",
        "    return w, loss_history\n",
        ""
      ]
    },
    {
      "cell_type": "code",
      "execution_count": 9,
      "metadata": {
        "colab": {
          "base_uri": "https://localhost:8080/"
        },
        "id": "MRlgb9A3RPPf",
        "outputId": "65429cf9-3da0-4df4-e2df-1bbbf3efcd6a"
      },
      "outputs": [
        {
          "output_type": "stream",
          "name": "stdout",
          "text": [
            "Gradient Descent - w: [4766729.23596627  821968.67551979  300259.83239246  696447.05416246]\n",
            "Analytical Solution - Optimal w: [4766729.24770642  821968.58935343  300259.16468032  696447.75898579]\n"
          ]
        }
      ],
      "source": [
        "# Завантаження даних і нормалізація\n",
        "df = pd.read_csv(\"Housing.csv\")\n",
        "norm = df.copy()\n",
        "columns = ['price', 'area', 'bedrooms', 'bathrooms']\n",
        "for column in columns[1:]:\n",
        "    norm[column] = (df[column] - df[column].mean()) / df[column].std()\n",
        "\n",
        "\n",
        "# Дані для лінійної регресії\n",
        "X = norm[['area', 'bedrooms', 'bathrooms']].values\n",
        "y = norm['price'].values\n",
        "\n",
        "# Параметри градієнтного спуску\n",
        "learning_rate = 0.001\n",
        "num_iter = 100000\n",
        "eps = 1e-12\n",
        "\n",
        "# Градієнтний спуск\n",
        "w_gradient, loss_history = gradient(X, y, learning_rate, num_iter, eps)\n",
        "print('Gradient Descent - w:', w_gradient)\n",
        "\n",
        "# Аналітичний розв'язок\n",
        "ones = np.ones((X.shape[0], 1))\n",
        "X = np.hstack((ones, X))\n",
        "w_analytical = np.linalg.pinv(X.T @ X) @ X.T @ y\n",
        "print('Analytical Solution - Optimal w:', w_analytical)"
      ]
    }
  ],
  "metadata": {
    "colab": {
      "provenance": []
    },
    "kernelspec": {
      "display_name": "Python 3 (ipykernel)",
      "language": "python",
      "name": "python3"
    },
    "language_info": {
      "codemirror_mode": {
        "name": "ipython",
        "version": 3
      },
      "file_extension": ".py",
      "mimetype": "text/x-python",
      "name": "python",
      "nbconvert_exporter": "python",
      "pygments_lexer": "ipython3",
      "version": "3.9.2"
    }
  },
  "nbformat": 4,
  "nbformat_minor": 0
}