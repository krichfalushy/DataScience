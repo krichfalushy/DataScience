{
  "nbformat": 4,
  "nbformat_minor": 0,
  "metadata": {
    "colab": {
      "provenance": []
    },
    "kernelspec": {
      "name": "python3",
      "display_name": "Python 3"
    },
    "language_info": {
      "name": "python"
    }
  },
  "cells": [
    {
      "cell_type": "code",
      "execution_count": 1,
      "metadata": {
        "id": "1xpBf3DURAQ3"
      },
      "outputs": [],
      "source": [
        "import numpy as np\n",
        "import random"
      ]
    },
    {
      "cell_type": "code",
      "source": [
        "a_1 = np.array([i for i in range(1, 11)], dtype=int)\n",
        "print(a_1)"
      ],
      "metadata": {
        "id": "WQOBKcbqR2S-",
        "colab": {
          "base_uri": "https://localhost:8080/"
        },
        "outputId": "69a0daab-0e44-4464-8f5f-36a6054d8b3c"
      },
      "execution_count": 2,
      "outputs": [
        {
          "output_type": "stream",
          "name": "stdout",
          "text": [
            "[ 1  2  3  4  5  6  7  8  9 10]\n"
          ]
        }
      ]
    },
    {
      "cell_type": "code",
      "source": [
        "a_2 = np.zeros((3, 3), dtype=int)\n",
        "print(a_2)"
      ],
      "metadata": {
        "id": "2vR2tx6lSPhX",
        "colab": {
          "base_uri": "https://localhost:8080/"
        },
        "outputId": "bca96f99-a4aa-48e4-c1ab-5a6695113b6e"
      },
      "execution_count": 3,
      "outputs": [
        {
          "output_type": "stream",
          "name": "stdout",
          "text": [
            "[[0 0 0]\n",
            " [0 0 0]\n",
            " [0 0 0]]\n"
          ]
        }
      ]
    },
    {
      "cell_type": "code",
      "source": [
        "a_3 = np.random.randint(1, 11, (5, 5))\n",
        "print(a_3)"
      ],
      "metadata": {
        "id": "gceBY9rJSRNq",
        "colab": {
          "base_uri": "https://localhost:8080/"
        },
        "outputId": "29d9c51e-a8d1-4ded-a048-71fb57893923"
      },
      "execution_count": 4,
      "outputs": [
        {
          "output_type": "stream",
          "name": "stdout",
          "text": [
            "[[ 1  8  8  3  9]\n",
            " [ 4  7  6  3  4]\n",
            " [ 4  2  3  9  3]\n",
            " [10  2  5  4 10]\n",
            " [ 1  3  6  1  6]]\n"
          ]
        }
      ]
    },
    {
      "cell_type": "code",
      "source": [
        "a_4 = np.random.random((4, 4))\n",
        "print(a_4)"
      ],
      "metadata": {
        "id": "r9HHRo9YZjNt",
        "colab": {
          "base_uri": "https://localhost:8080/"
        },
        "outputId": "1ff03477-bff9-47d0-b947-df23a904bb28"
      },
      "execution_count": 5,
      "outputs": [
        {
          "output_type": "stream",
          "name": "stdout",
          "text": [
            "[[0.40596095 0.46814453 0.58861579 0.29840596]\n",
            " [0.63973931 0.08616542 0.71672121 0.42703147]\n",
            " [0.2652617  0.44122431 0.8629037  0.15456288]\n",
            " [0.96094569 0.36091216 0.06003305 0.09120705]]\n"
          ]
        }
      ]
    },
    {
      "cell_type": "code",
      "source": [
        "a_5_1 = np.random.randint(1, 11, (5,))\n",
        "a_5_2 = np.random.randint(1, 11, (5,))\n",
        "print(a_5_1, a_5_2)\n",
        "a_5_add = a_5_1 + a_5_2\n",
        "print(a_5_add)\n",
        "a_5_sub = a_5_1 - a_5_2\n",
        "print(a_5_sub)\n",
        "a_5_mul = a_5_1 * a_5_2\n",
        "print(a_5_mul)"
      ],
      "metadata": {
        "id": "CatmXbKuZj_t",
        "colab": {
          "base_uri": "https://localhost:8080/"
        },
        "outputId": "61bb5998-dd48-44f8-b041-e6a7314b8ffe"
      },
      "execution_count": 6,
      "outputs": [
        {
          "output_type": "stream",
          "name": "stdout",
          "text": [
            "[6 1 8 6 6] [1 2 1 3 6]\n",
            "[ 7  3  9  9 12]\n",
            "[ 5 -1  7  3  0]\n",
            "[ 6  2  8 18 36]\n"
          ]
        }
      ]
    },
    {
      "cell_type": "code",
      "source": [
        "a_6_1 = np.random.random((7,))\n",
        "a_6_2 = np.random.random((7,))\n",
        "print(a_6_1)\n",
        "print(a_6_2)\n",
        "a_6_dot = np.dot(a_6_1, a_6_2)\n",
        "print(a_6_dot)"
      ],
      "metadata": {
        "id": "j6E2f8THZ20J",
        "colab": {
          "base_uri": "https://localhost:8080/"
        },
        "outputId": "d238c279-38e1-40bd-e729-99a7095d8752"
      },
      "execution_count": 7,
      "outputs": [
        {
          "output_type": "stream",
          "name": "stdout",
          "text": [
            "[0.02361272 0.91204261 0.2833188  0.4109309  0.97629624 0.89855082\n",
            " 0.32225703]\n",
            "[0.96925391 0.2527953  0.02135385 0.58156506 0.11845653 0.09903513\n",
            " 0.48595961]\n",
            "0.8597204715834785\n"
          ]
        }
      ]
    },
    {
      "cell_type": "code",
      "source": [
        "a_7_1 = np.random.randint(1, 11, (2, 2))\n",
        "a_7_2 = np.random.randint(1, 11, (2, 3))\n",
        "print(a_7_1)\n",
        "print(a_7_2)\n",
        "a_7_dot = np.dot(a_7_1, a_7_2)\n",
        "print(a_7_dot)"
      ],
      "metadata": {
        "id": "7pbRc5HbhXjC",
        "colab": {
          "base_uri": "https://localhost:8080/"
        },
        "outputId": "17aba31a-df93-422b-b4cb-b47a475f3058"
      },
      "execution_count": 8,
      "outputs": [
        {
          "output_type": "stream",
          "name": "stdout",
          "text": [
            "[[1 4]\n",
            " [9 1]]\n",
            "[[8 7 4]\n",
            " [5 3 6]]\n",
            "[[28 19 28]\n",
            " [77 66 42]]\n"
          ]
        }
      ]
    },
    {
      "cell_type": "code",
      "source": [
        "a_8 = np.random.randint(1, 11, (3, 3))\n",
        "print(a_8)\n",
        "a_8_e = np.linalg.inv(a_8)\n",
        "print(a_8_e)"
      ],
      "metadata": {
        "id": "V30tWmMljv4o",
        "colab": {
          "base_uri": "https://localhost:8080/"
        },
        "outputId": "5cdcd87b-6267-4f13-fe81-c0a82eff113e"
      },
      "execution_count": 11,
      "outputs": [
        {
          "output_type": "stream",
          "name": "stdout",
          "text": [
            "[[1 3 6]\n",
            " [8 9 9]\n",
            " [5 8 4]]\n",
            "[[-0.30769231  0.30769231 -0.23076923]\n",
            " [ 0.11111111 -0.22222222  0.33333333]\n",
            " [ 0.16239316  0.05982906 -0.12820513]]\n"
          ]
        }
      ]
    },
    {
      "cell_type": "code",
      "source": [
        "a_9 = np.random.random((4, 4))\n",
        "print(a_9)\n",
        "a_9_t = a_9.T\n",
        "print(a_9_t)"
      ],
      "metadata": {
        "id": "ySif9UGaqMkk",
        "colab": {
          "base_uri": "https://localhost:8080/"
        },
        "outputId": "1bb50d9d-8764-4f07-91c2-e007de17ca3c"
      },
      "execution_count": 12,
      "outputs": [
        {
          "output_type": "stream",
          "name": "stdout",
          "text": [
            "[[0.6931952  0.85527742 0.56593442 0.592249  ]\n",
            " [0.04157233 0.69889375 0.59479042 0.15065175]\n",
            " [0.87651362 0.46976934 0.96457126 0.83549194]\n",
            " [0.7022245  0.27200665 0.05537868 0.45295337]]\n",
            "[[0.6931952  0.04157233 0.87651362 0.7022245 ]\n",
            " [0.85527742 0.69889375 0.46976934 0.27200665]\n",
            " [0.56593442 0.59479042 0.96457126 0.05537868]\n",
            " [0.592249   0.15065175 0.83549194 0.45295337]]\n"
          ]
        }
      ]
    },
    {
      "cell_type": "code",
      "source": [
        "a_10_m = np.random.randint(1, 11, (3, 4))\n",
        "print(a_10_m)\n",
        "a_10_v = np.random.randint(1, 11, (4,))\n",
        "print(a_10_v)\n",
        "a_10_dot = np.dot(a_10_m, a_10_v)\n",
        "print(a_10_dot)"
      ],
      "metadata": {
        "id": "fFaNX0yNrXwI",
        "colab": {
          "base_uri": "https://localhost:8080/"
        },
        "outputId": "ab624cf5-aad1-439f-9acc-db81c655af5c"
      },
      "execution_count": 13,
      "outputs": [
        {
          "output_type": "stream",
          "name": "stdout",
          "text": [
            "[[ 7  5  1  9]\n",
            " [ 9 10  6  5]\n",
            " [ 4  5  1  5]]\n",
            "[1 1 8 9]\n",
            "[101 112  62]\n"
          ]
        }
      ]
    },
    {
      "cell_type": "code",
      "source": [
        "a_11_m = np.random.random((2, 3))\n",
        "print(a_11_m)\n",
        "a_11_v = np.random.random((3,))\n",
        "print(a_11_v)\n",
        "a_11_dot = np.dot(a_11_m, a_11_v)\n",
        "print(a_11_dot)"
      ],
      "metadata": {
        "id": "vXpeAeqtsxpb",
        "colab": {
          "base_uri": "https://localhost:8080/"
        },
        "outputId": "c5089510-531a-43ca-f19b-be29a0f22238"
      },
      "execution_count": 14,
      "outputs": [
        {
          "output_type": "stream",
          "name": "stdout",
          "text": [
            "[[0.13993253 0.86187317 0.91351148]\n",
            " [0.66268058 0.87370785 0.76738397]]\n",
            "[0.10048426 0.82730469 0.97160257]\n",
            "[1.61466283 1.53500381]\n"
          ]
        }
      ]
    },
    {
      "cell_type": "code",
      "source": [
        "a_12_1 = np.random.randint(1, 11, (2, 2))\n",
        "print(a_12_1)\n",
        "a_12_2 = np.random.randint(1, 11, (2, 2))\n",
        "print(a_12_2)\n",
        "a_12_mul = a_12_1 * a_12_2\n",
        "print(a_12_mul)"
      ],
      "metadata": {
        "id": "v1xs1IN2xnnf",
        "colab": {
          "base_uri": "https://localhost:8080/"
        },
        "outputId": "af2e4879-e3a4-4276-a53a-76694ffeff44"
      },
      "execution_count": 15,
      "outputs": [
        {
          "output_type": "stream",
          "name": "stdout",
          "text": [
            "[[5 8]\n",
            " [9 2]]\n",
            "[[4 2]\n",
            " [9 8]]\n",
            "[[20 16]\n",
            " [81 16]]\n"
          ]
        }
      ]
    },
    {
      "cell_type": "code",
      "source": [
        "a_13_1 = np.random.randint(1, 11, (2, 2))\n",
        "print(a_13_1)\n",
        "a_13_2 = np.random.randint(1, 11, (2, 2))\n",
        "print(a_13_2)\n",
        "a_13_dot = np.dot(a_13_1, a_13_2)\n",
        "print(a_13_dot)"
      ],
      "metadata": {
        "id": "xl99M3gFyhKH",
        "colab": {
          "base_uri": "https://localhost:8080/"
        },
        "outputId": "0d0679bc-cf1b-4c89-d688-79174a58f98a"
      },
      "execution_count": 16,
      "outputs": [
        {
          "output_type": "stream",
          "name": "stdout",
          "text": [
            "[[3 9]\n",
            " [5 2]]\n",
            "[[3 5]\n",
            " [1 1]]\n",
            "[[18 24]\n",
            " [17 27]]\n"
          ]
        }
      ]
    },
    {
      "cell_type": "code",
      "source": [
        "a_14 = np.random.randint(1, 101, (5, 5))\n",
        "print(a_14)\n",
        "a_14_sum = a_14.sum()\n",
        "print(a_14_sum)"
      ],
      "metadata": {
        "id": "oIOa666Jy_PY",
        "colab": {
          "base_uri": "https://localhost:8080/"
        },
        "outputId": "f7bf4e82-6926-4c31-c980-5b6b07a14924"
      },
      "execution_count": 17,
      "outputs": [
        {
          "output_type": "stream",
          "name": "stdout",
          "text": [
            "[[74 88 14 37 75]\n",
            " [20 59  7 68  9]\n",
            " [23 95  3 56 80]\n",
            " [27 50 96 61 88]\n",
            " [98  8 10  1 41]]\n",
            "1188\n"
          ]
        }
      ]
    },
    {
      "cell_type": "code",
      "source": [
        "a_15_1 = np.random.randint(1, 11, (4, 4))\n",
        "print(a_15_1)\n",
        "a_15_2 = np.random.randint(1, 11, (4, 4))\n",
        "print(a_15_2)\n",
        "a_15_sub = a_15_1 - a_15_2\n",
        "print(a_15_sub)"
      ],
      "metadata": {
        "id": "pkjmNkZjzoKj",
        "colab": {
          "base_uri": "https://localhost:8080/"
        },
        "outputId": "538a5ee0-9411-4b23-cb36-fcc4ac61d2c1"
      },
      "execution_count": 18,
      "outputs": [
        {
          "output_type": "stream",
          "name": "stdout",
          "text": [
            "[[ 1  5  1  4]\n",
            " [ 9  2  2 10]\n",
            " [ 5  5  2  6]\n",
            " [ 2  3  9  3]]\n",
            "[[10  8  5  4]\n",
            " [ 1 10  9  6]\n",
            " [ 7  9  7  1]\n",
            " [ 7  8  5  9]]\n",
            "[[-9 -3 -4  0]\n",
            " [ 8 -8 -7  4]\n",
            " [-2 -4 -5  5]\n",
            " [-5 -5  4 -6]]\n"
          ]
        }
      ]
    },
    {
      "cell_type": "code",
      "source": [
        "a_16 = np.random.random((3, 3))\n",
        "print(a_16)\n",
        "vector = a_16.sum(axis=1)\n",
        "print(vector)\n",
        "vector = vector.reshape((3, 1))\n",
        "print(vector)"
      ],
      "metadata": {
        "id": "q9BpJoxv0Z9J",
        "colab": {
          "base_uri": "https://localhost:8080/"
        },
        "outputId": "f726de8a-3ce6-46ba-bc3e-744b5c756f78"
      },
      "execution_count": 20,
      "outputs": [
        {
          "output_type": "stream",
          "name": "stdout",
          "text": [
            "[[0.73410075 0.42776762 0.08238212]\n",
            " [0.09482489 0.09586925 0.98907688]\n",
            " [0.85486656 0.26148651 0.57648063]]\n",
            "[1.24425049 1.17977102 1.6928337 ]\n",
            "[[1.24425049]\n",
            " [1.17977102]\n",
            " [1.6928337 ]]\n"
          ]
        }
      ]
    },
    {
      "cell_type": "code",
      "source": [
        "a_17 = np.random.randint(1, 26, (3, 4))\n",
        "print(a_17)\n",
        "a_17_sq = a_17 ** 2\n",
        "print(a_17_sq)"
      ],
      "metadata": {
        "id": "vdHI0sQbAQ8l",
        "colab": {
          "base_uri": "https://localhost:8080/"
        },
        "outputId": "63a74561-e67b-4f86-f42d-19a214d99a3b"
      },
      "execution_count": 21,
      "outputs": [
        {
          "output_type": "stream",
          "name": "stdout",
          "text": [
            "[[20 15 14  3]\n",
            " [22 20 20  3]\n",
            " [ 6  8 24 11]]\n",
            "[[400 225 196   9]\n",
            " [484 400 400   9]\n",
            " [ 36  64 576 121]]\n"
          ]
        }
      ]
    },
    {
      "cell_type": "code",
      "source": [
        "a_18 = np.random.randint(1, 51, (4,))\n",
        "print(a_18)\n",
        "a_18_rt = a_18 ** 0.5\n",
        "print(a_18_rt)"
      ],
      "metadata": {
        "id": "KAOEV5rzBvfc",
        "colab": {
          "base_uri": "https://localhost:8080/"
        },
        "outputId": "25ea9759-cae5-4d54-c502-3eb64217b7de"
      },
      "execution_count": 22,
      "outputs": [
        {
          "output_type": "stream",
          "name": "stdout",
          "text": [
            "[24 36  6  9]\n",
            "[4.89897949 6.         2.44948974 3.        ]\n"
          ]
        }
      ]
    }
  ]
}