{
  "nbformat": 4,
  "nbformat_minor": 0,
  "metadata": {
    "colab": {
      "provenance": []
    },
    "kernelspec": {
      "name": "python3",
      "display_name": "Python 3"
    },
    "language_info": {
      "name": "python"
    }
  },
  "cells": [
    {
      "cell_type": "code",
      "execution_count": 25,
      "metadata": {
        "id": "1xpBf3DURAQ3"
      },
      "outputs": [],
      "source": [
        "import numpy as np\n",
        "import random"
      ]
    },
    {
      "cell_type": "code",
      "source": [
        "a_1 = np.array([i for i in range(1, 11)], dtype=int)\n",
        "print(a_1)"
      ],
      "metadata": {
        "id": "WQOBKcbqR2S-"
      },
      "execution_count": null,
      "outputs": []
    },
    {
      "cell_type": "code",
      "source": [
        "a_2 = np.zeros((3, 3), dtype=int)\n",
        "print(a_2)"
      ],
      "metadata": {
        "id": "2vR2tx6lSPhX"
      },
      "execution_count": null,
      "outputs": []
    },
    {
      "cell_type": "code",
      "source": [
        "a_3 = np.random.randint(1, 11, (5, 5))\n",
        "print(a_3)"
      ],
      "metadata": {
        "id": "gceBY9rJSRNq"
      },
      "execution_count": null,
      "outputs": []
    },
    {
      "cell_type": "code",
      "source": [
        "a_4 = np.random.random((4, 4))\n",
        "print(a_4)"
      ],
      "metadata": {
        "id": "r9HHRo9YZjNt"
      },
      "execution_count": null,
      "outputs": []
    },
    {
      "cell_type": "code",
      "source": [
        "a_5_1 = np.random.randint(1, 11, (5,))\n",
        "a_5_2 = np.random.randint(1, 11, (5,))\n",
        "print(a_5_1, a_5_2)\n",
        "a_5_add = a_5_1 + a_5_2\n",
        "print(a_5_add)\n",
        "a_5_sub = a_5_1 - a_5_2\n",
        "print(a_5_sub)\n",
        "a_5_mul = a_5_1 * a_5_2\n",
        "print(a_5_mul)"
      ],
      "metadata": {
        "id": "CatmXbKuZj_t"
      },
      "execution_count": null,
      "outputs": []
    },
    {
      "cell_type": "code",
      "source": [
        "a_6_1 = np.random.random((7,))\n",
        "a_6_2 = np.random.random((7,))\n",
        "print(a_6_1)\n",
        "print(a_6_2)\n",
        "a_6_dot = np.dot(a_6_1, a_6_2)\n",
        "print(a_6_dot)"
      ],
      "metadata": {
        "id": "j6E2f8THZ20J"
      },
      "execution_count": null,
      "outputs": []
    },
    {
      "cell_type": "code",
      "source": [
        "a_7_1 = np.random.randint(1, 11, (2, 2))\n",
        "a_7_2 = np.random.randint(1, 11, (2, 3))\n",
        "print(a_7_1)\n",
        "print(a_7_2)\n",
        "a_7_dot = np.dot(a_7_1, a_7_2)\n",
        "print(a_7_dot)"
      ],
      "metadata": {
        "id": "7pbRc5HbhXjC"
      },
      "execution_count": null,
      "outputs": []
    },
    {
      "cell_type": "code",
      "source": [
        "a_8 = np.random.randint(1, 11, (3, 3))\n",
        "print(a_8)\n",
        "a_8_e = np.linalg.inv(a_8)\n",
        "print(a_8_e)"
      ],
      "metadata": {
        "id": "V30tWmMljv4o"
      },
      "execution_count": null,
      "outputs": []
    },
    {
      "cell_type": "code",
      "source": [
        "a_9 = np.random.random((4, 4))\n",
        "print(a_9)\n",
        "a_9_t = a_9.T\n",
        "print(a_9_t)"
      ],
      "metadata": {
        "id": "ySif9UGaqMkk"
      },
      "execution_count": null,
      "outputs": []
    },
    {
      "cell_type": "code",
      "source": [
        "a_10_m = np.random.randint(1, 11, (3, 4))\n",
        "print(a_10_m)\n",
        "a_10_v = np.random.randint(1, 11, (4,))\n",
        "print(a_10_v)\n",
        "a_10_dot = np.dot(a_10_m, a_10_v)\n",
        "print(a_10_dot)"
      ],
      "metadata": {
        "id": "fFaNX0yNrXwI"
      },
      "execution_count": null,
      "outputs": []
    },
    {
      "cell_type": "code",
      "source": [
        "a_11_m = np.random.random((2, 3))\n",
        "print(a_11_m)\n",
        "a_11_v = np.random.random((3,))\n",
        "print(a_11_v)\n",
        "a_11_dot = np.dot(a_11_m, a_11_v)\n",
        "print(a_11_dot)"
      ],
      "metadata": {
        "id": "vXpeAeqtsxpb"
      },
      "execution_count": null,
      "outputs": []
    },
    {
      "cell_type": "code",
      "source": [
        "a_12_1 = np.random.randint(1, 11, (2, 2))\n",
        "print(a_12_1)\n",
        "a_12_2 = np.random.randint(1, 11, (2, 2))\n",
        "print(a_12_2)\n",
        "a_12_mul = a_12_1 * a_12_2\n",
        "print(a_12_mul)"
      ],
      "metadata": {
        "id": "v1xs1IN2xnnf"
      },
      "execution_count": null,
      "outputs": []
    },
    {
      "cell_type": "code",
      "source": [
        "a_13_1 = np.random.randint(1, 11, (2, 2))\n",
        "print(a_13_1)\n",
        "a_13_2 = np.random.randint(1, 11, (2, 2))\n",
        "print(a_13_2)\n",
        "a_13_dot = np.dot(a_13_1, a_13_2)\n",
        "print(a_13_dot)"
      ],
      "metadata": {
        "id": "xl99M3gFyhKH"
      },
      "execution_count": null,
      "outputs": []
    },
    {
      "cell_type": "code",
      "source": [
        "a_14 = np.random.randint(1, 101, (5, 5))\n",
        "print(a_14)\n",
        "a_14_sum = a_14.sum()\n",
        "print(a_14_sum)"
      ],
      "metadata": {
        "id": "oIOa666Jy_PY"
      },
      "execution_count": null,
      "outputs": []
    },
    {
      "cell_type": "code",
      "source": [
        "a_15_1 = np.random.randint(1, 11, (4, 4))\n",
        "print(a_15_1)\n",
        "a_15_2 = np.random.randint(1, 11, (4, 4))\n",
        "print(a_15_2)\n",
        "a_15_sub = a_15_1 - a_15_2\n",
        "print(a_15_sub)"
      ],
      "metadata": {
        "id": "pkjmNkZjzoKj"
      },
      "execution_count": null,
      "outputs": []
    },
    {
      "cell_type": "code",
      "source": [
        "a_16 = np.random.random((3, 3))\n",
        "print(a_16)\n",
        "ind = 0\n",
        "summarily = []\n",
        "while ind < len(a_16):\n",
        "    summarily.append(a_16[ind].sum())\n",
        "    ind += 1\n",
        "print(summarily)\n",
        "vector = np.array(summarily)\n",
        "vector.shape = (3, 1)\n",
        "print(vector)"
      ],
      "metadata": {
        "id": "q9BpJoxv0Z9J"
      },
      "execution_count": null,
      "outputs": []
    },
    {
      "cell_type": "code",
      "source": [
        "a_17 = np.random.randint(1, 26, (3, 4))\n",
        "print(a_17)\n",
        "a_17_sq = a_17 ** 2\n",
        "print(a_17_sq)"
      ],
      "metadata": {
        "id": "vdHI0sQbAQ8l"
      },
      "execution_count": null,
      "outputs": []
    },
    {
      "cell_type": "code",
      "source": [
        "a_18 = np.random.randint(1, 51, (4,))\n",
        "print(a_18)\n",
        "a_18_rt = a_18 ** 0.5\n",
        "print(a_18_rt)"
      ],
      "metadata": {
        "id": "KAOEV5rzBvfc"
      },
      "execution_count": null,
      "outputs": []
    }
  ]
}